{
 "cells": [
  {
   "cell_type": "code",
   "execution_count": 1,
   "metadata": {
    "execution": {
     "iopub.execute_input": "2022-02-01T22:23:07.767144Z",
     "iopub.status.busy": "2022-02-01T22:23:07.766823Z",
     "iopub.status.idle": "2022-02-01T22:23:08.709094Z",
     "shell.execute_reply": "2022-02-01T22:23:08.708523Z",
     "shell.execute_reply.started": "2022-02-01T22:23:07.767071Z"
    }
   },
   "outputs": [],
   "source": [
    "import torch\n",
    "import random\n",
    "import numpy as np\n",
    "from sklearn.model_selection import train_test_split\n",
    "from sklearn.datasets import load_wine"
   ]
  },
  {
   "cell_type": "code",
   "execution_count": 7,
   "metadata": {
    "execution": {
     "iopub.execute_input": "2022-02-01T22:24:59.538543Z",
     "iopub.status.busy": "2022-02-01T22:24:59.538252Z",
     "iopub.status.idle": "2022-02-01T22:24:59.546061Z",
     "shell.execute_reply": "2022-02-01T22:24:59.545419Z",
     "shell.execute_reply.started": "2022-02-01T22:24:59.538516Z"
    },
    "tags": []
   },
   "outputs": [],
   "source": [
    "wine = load_wine()\n",
    "features = 13 # use 13 features\n",
    "\n",
    "X_train, X_test, y_train, y_test = train_test_split(\n",
    "    wine.data[:, :features], \n",
    "    wine.target, \n",
    "    test_size=0.3, \n",
    "    shuffle=True)\n",
    "\n",
    "X_train = torch.FloatTensor(X_train)\n",
    "X_test = torch.FloatTensor(X_test)\n",
    "y_train = torch.LongTensor(y_train)\n",
    "y_test = torch.LongTensor(y_test)"
   ]
  },
  {
   "cell_type": "code",
   "execution_count": 17,
   "metadata": {
    "execution": {
     "iopub.execute_input": "2022-02-01T22:27:20.151253Z",
     "iopub.status.busy": "2022-02-01T22:27:20.151013Z",
     "iopub.status.idle": "2022-02-01T22:27:20.158003Z",
     "shell.execute_reply": "2022-02-01T22:27:20.157343Z",
     "shell.execute_reply.started": "2022-02-01T22:27:20.151228Z"
    },
    "tags": []
   },
   "outputs": [],
   "source": [
    "class WineNet(torch.nn.Module):\n",
    "    def __init__(self,n_input, n_hidden_neurons):\n",
    "        super(WineNet, self).__init__()\n",
    "        self.fc1 = torch.nn.Linear(n_input, n_hidden_neurons)\n",
    "        self.activ1 = torch.nn.Sigmoid()\n",
    "        self.fc2 = torch.nn.Linear(n_hidden_neurons, n_hidden_neurons)\n",
    "        self.activ2 = torch.nn.Sigmoid()\n",
    "        self.fc3 = torch.nn.Linear(n_hidden_neurons, 3)\n",
    "        self.sm = torch.nn.Softmax(dim=1)\n",
    "        \n",
    "    def forward(self, x):\n",
    "        x = self.fc1(x)\n",
    "        x = self.activ1(x)\n",
    "        x = self.fc2(x)\n",
    "        x = self.activ2(x)\n",
    "        x = self.fc3(x)\n",
    "        return x\n",
    "\n",
    "    def inference(self, x):\n",
    "        x = self.forward(x)\n",
    "        x = self.sm(x)\n",
    "        return x\n",
    "    \n",
    "n_input = features # choose number of input neurons\n",
    "n_hidden = 3 # choose number of hidden neurons\n",
    "wine_net = WineNet(n_input, n_hidden)"
   ]
  },
  {
   "cell_type": "code",
   "execution_count": 18,
   "metadata": {
    "execution": {
     "iopub.execute_input": "2022-02-01T22:27:20.432831Z",
     "iopub.status.busy": "2022-02-01T22:27:20.432521Z",
     "iopub.status.idle": "2022-02-01T22:27:20.436605Z",
     "shell.execute_reply": "2022-02-01T22:27:20.435894Z",
     "shell.execute_reply.started": "2022-02-01T22:27:20.432799Z"
    },
    "tags": []
   },
   "outputs": [],
   "source": [
    "loss = torch.nn.CrossEntropyLoss()\n",
    "optimizer = torch.optim.Adam(wine_net.parameters(), lr=1.0e-3)"
   ]
  },
  {
   "cell_type": "code",
   "execution_count": 19,
   "metadata": {
    "execution": {
     "iopub.execute_input": "2022-02-01T22:27:20.730700Z",
     "iopub.status.busy": "2022-02-01T22:27:20.730455Z",
     "iopub.status.idle": "2022-02-01T22:27:22.579675Z",
     "shell.execute_reply": "2022-02-01T22:27:22.579090Z",
     "shell.execute_reply.started": "2022-02-01T22:27:20.730677Z"
    },
    "tags": []
   },
   "outputs": [],
   "source": [
    "batch_size = 100 # choose different batch sizes\n",
    "\n",
    "for epoch in range(2000):\n",
    "    order = np.random.permutation(len(X_train))\n",
    "    for start_index in range(0, len(X_train), batch_size):\n",
    "        optimizer.zero_grad()\n",
    "        \n",
    "        batch_indexes = order[start_index:start_index+batch_size]\n",
    "        \n",
    "        x_batch = X_train[batch_indexes]\n",
    "        y_batch = y_train[batch_indexes]\n",
    "        \n",
    "        preds = wine_net.forward(x_batch) \n",
    "        \n",
    "        loss_value = loss(preds, y_batch)\n",
    "        loss_value.backward()\n",
    "        \n",
    "        optimizer.step()\n",
    "        \n",
    "    if epoch % 10 == 0:\n",
    "        test_preds = wine_net.forward(X_test)\n",
    "        test_preds = test_preds.argmax(dim=1)"
   ]
  },
  {
   "cell_type": "code",
   "execution_count": 11,
   "metadata": {
    "execution": {
     "iopub.execute_input": "2022-02-01T22:26:16.033546Z",
     "iopub.status.busy": "2022-02-01T22:26:16.033286Z",
     "iopub.status.idle": "2022-02-01T22:26:16.037827Z",
     "shell.execute_reply": "2022-02-01T22:26:16.037188Z",
     "shell.execute_reply.started": "2022-02-01T22:26:16.033517Z"
    }
   },
   "outputs": [
    {
     "name": "stdout",
     "output_type": "stream",
     "text": [
      "13 True\n"
     ]
    }
   ],
   "source": [
    "print(wine_net.fc1.in_features, np.asarray((test_preds == y_test).float().mean()) > 0.8)\n",
    "# need to get 13 True"
   ]
  },
  {
   "cell_type": "code",
   "execution_count": null,
   "metadata": {},
   "outputs": [],
   "source": []
  }
 ],
 "metadata": {
  "kernelspec": {
   "display_name": "rl_learn_v2",
   "language": "python",
   "name": "rl_learn_v2"
  },
  "language_info": {
   "codemirror_mode": {
    "name": "ipython",
    "version": 3
   },
   "file_extension": ".py",
   "mimetype": "text/x-python",
   "name": "python",
   "nbconvert_exporter": "python",
   "pygments_lexer": "ipython3",
   "version": "3.9.7"
  }
 },
 "nbformat": 4,
 "nbformat_minor": 4
}

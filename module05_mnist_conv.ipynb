{
 "cells": [
  {
   "cell_type": "markdown",
   "metadata": {
    "colab_type": "text",
    "id": "cdjn6pICZMoM"
   },
   "source": [
    "![alt text](https://engmrk.com/wp-content/uploads/2018/09/LeNet_Original_Image.jpg)"
   ]
  },
  {
   "cell_type": "markdown",
   "metadata": {
    "colab_type": "text",
    "id": "14icu4JgZXqM"
   },
   "source": [
    "![alt text](https://engmrk.com/wp-content/uploads/2018/09/LeNEt_Summary_Table.jpg)"
   ]
  },
  {
   "cell_type": "code",
   "execution_count": 1,
   "metadata": {
    "colab": {},
    "colab_type": "code",
    "execution": {
     "iopub.execute_input": "2022-02-02T14:57:54.284139Z",
     "iopub.status.busy": "2022-02-02T14:57:54.283878Z",
     "iopub.status.idle": "2022-02-02T14:57:54.910214Z",
     "shell.execute_reply": "2022-02-02T14:57:54.905148Z",
     "shell.execute_reply.started": "2022-02-02T14:57:54.284079Z"
    },
    "id": "85_HkTjcNZeg",
    "tags": []
   },
   "outputs": [],
   "source": [
    "import torch\n",
    "import random\n",
    "import numpy as np\n",
    "\n",
    "random.seed(0)\n",
    "np.random.seed(0)\n",
    "torch.manual_seed(0)\n",
    "torch.cuda.manual_seed(0)\n",
    "torch.backends.cudnn.deterministic = True"
   ]
  },
  {
   "cell_type": "code",
   "execution_count": 2,
   "metadata": {
    "colab": {},
    "colab_type": "code",
    "execution": {
     "iopub.execute_input": "2022-02-02T14:57:56.258990Z",
     "iopub.status.busy": "2022-02-02T14:57:56.258692Z",
     "iopub.status.idle": "2022-02-02T14:57:56.414027Z",
     "shell.execute_reply": "2022-02-02T14:57:56.413422Z",
     "shell.execute_reply.started": "2022-02-02T14:57:56.258958Z"
    },
    "id": "kjPVw9UfNZel"
   },
   "outputs": [],
   "source": [
    "import torchvision.datasets"
   ]
  },
  {
   "cell_type": "code",
   "execution_count": 3,
   "metadata": {
    "colab": {
     "base_uri": "https://localhost:8080/",
     "height": 279
    },
    "colab_type": "code",
    "execution": {
     "iopub.execute_input": "2022-02-02T14:57:57.038833Z",
     "iopub.status.busy": "2022-02-02T14:57:57.038268Z",
     "iopub.status.idle": "2022-02-02T14:57:57.108308Z",
     "shell.execute_reply": "2022-02-02T14:57:57.107702Z",
     "shell.execute_reply.started": "2022-02-02T14:57:57.038799Z"
    },
    "id": "buWKcUqGNZeo",
    "outputId": "f2cb4e72-67cd-4262-da9b-228f9e643afd"
   },
   "outputs": [],
   "source": [
    "MNIST_train = torchvision.datasets.MNIST('./', download=True, train=True)\n",
    "MNIST_test = torchvision.datasets.MNIST('./', download=True, train=False)"
   ]
  },
  {
   "cell_type": "code",
   "execution_count": null,
   "metadata": {
    "colab": {
     "base_uri": "https://localhost:8080/",
     "height": 155
    },
    "colab_type": "code",
    "id": "nyrpGOtPNZeq",
    "outputId": "128d4d8d-8ebc-44d7-e8ed-04a92cd7dd40",
    "tags": []
   },
   "outputs": [],
   "source": [
    "X_train = MNIST_train.train_data\n",
    "y_train = MNIST_train.train_labels\n",
    "X_test = MNIST_test.test_data\n",
    "y_test = MNIST_test.test_labels"
   ]
  },
  {
   "cell_type": "code",
   "execution_count": 5,
   "metadata": {
    "colab": {
     "base_uri": "https://localhost:8080/",
     "height": 35
    },
    "colab_type": "code",
    "execution": {
     "iopub.execute_input": "2022-02-02T14:58:07.054307Z",
     "iopub.status.busy": "2022-02-02T14:58:07.054094Z",
     "iopub.status.idle": "2022-02-02T14:58:07.062348Z",
     "shell.execute_reply": "2022-02-02T14:58:07.061857Z",
     "shell.execute_reply.started": "2022-02-02T14:58:07.054285Z"
    },
    "id": "f_TmOTWdNZet",
    "outputId": "eb87b5af-7e23-4a1f-bc58-cdfc4774d4aa"
   },
   "outputs": [
    {
     "data": {
      "text/plain": [
       "(60000, 10000)"
      ]
     },
     "execution_count": 5,
     "metadata": {},
     "output_type": "execute_result"
    }
   ],
   "source": [
    "len(y_train), len(y_test)"
   ]
  },
  {
   "cell_type": "code",
   "execution_count": 6,
   "metadata": {
    "colab": {
     "base_uri": "https://localhost:8080/",
     "height": 286
    },
    "colab_type": "code",
    "execution": {
     "iopub.execute_input": "2022-02-02T14:58:08.864721Z",
     "iopub.status.busy": "2022-02-02T14:58:08.864470Z",
     "iopub.status.idle": "2022-02-02T14:58:09.219679Z",
     "shell.execute_reply": "2022-02-02T14:58:09.218900Z",
     "shell.execute_reply.started": "2022-02-02T14:58:08.864694Z"
    },
    "id": "Zd-E4vIpNZe1",
    "outputId": "f72d8415-e392-4af7-9c8f-501eddb5cc9c"
   },
   "outputs": [
    {
     "data": {
      "image/png": "[encoded data removed]",
      "text/plain": [
       "<Figure size 432x288 with 1 Axes>"
      ]
     },
     "metadata": {
      "needs_background": "light"
     },
     "output_type": "display_data"
    },
    {
     "name": "stdout",
     "output_type": "stream",
     "text": [
      "tensor(5)\n"
     ]
    }
   ],
   "source": [
    "import matplotlib.pyplot as plt\n",
    "plt.imshow(X_train[0, :, :])\n",
    "plt.show()\n",
    "print(y_train[0])"
   ]
  },
  {
   "cell_type": "code",
   "execution_count": 7,
   "metadata": {
    "colab": {},
    "colab_type": "code",
    "execution": {
     "iopub.execute_input": "2022-02-02T14:58:11.924733Z",
     "iopub.status.busy": "2022-02-02T14:58:11.924379Z",
     "iopub.status.idle": "2022-02-02T14:58:11.964639Z",
     "shell.execute_reply": "2022-02-02T14:58:11.963926Z",
     "shell.execute_reply.started": "2022-02-02T14:58:11.924707Z"
    },
    "id": "Tf9LiDGuNZe6"
   },
   "outputs": [],
   "source": [
    "X_train = X_train.unsqueeze(1).float()\n",
    "X_test = X_test.unsqueeze(1).float()"
   ]
  },
  {
   "cell_type": "code",
   "execution_count": 8,
   "metadata": {
    "colab": {
     "base_uri": "https://localhost:8080/",
     "height": 35
    },
    "colab_type": "code",
    "execution": {
     "iopub.execute_input": "2022-02-02T14:58:12.711887Z",
     "iopub.status.busy": "2022-02-02T14:58:12.711360Z",
     "iopub.status.idle": "2022-02-02T14:58:12.716488Z",
     "shell.execute_reply": "2022-02-02T14:58:12.715869Z",
     "shell.execute_reply.started": "2022-02-02T14:58:12.711857Z"
    },
    "id": "kxKAhEYHNZe-",
    "outputId": "5b8e9d61-4680-4b6c-8fa1-73e76490d019"
   },
   "outputs": [
    {
     "data": {
      "text/plain": [
       "torch.Size([60000, 1, 28, 28])"
      ]
     },
     "execution_count": 8,
     "metadata": {},
     "output_type": "execute_result"
    }
   ],
   "source": [
    "X_train.shape"
   ]
  },
  {
   "cell_type": "code",
   "execution_count": 9,
   "metadata": {
    "colab": {},
    "colab_type": "code",
    "execution": {
     "iopub.execute_input": "2022-02-02T14:58:29.194286Z",
     "iopub.status.busy": "2022-02-02T14:58:29.194039Z",
     "iopub.status.idle": "2022-02-02T14:58:29.204353Z",
     "shell.execute_reply": "2022-02-02T14:58:29.203728Z",
     "shell.execute_reply.started": "2022-02-02T14:58:29.194260Z"
    },
    "id": "xhsw9soDODel"
   },
   "outputs": [],
   "source": [
    "class LeNet5(torch.nn.Module):\n",
    "    def __init__(self):\n",
    "        super(LeNet5, self).__init__()\n",
    "        \n",
    "        self.conv1 = torch.nn.Conv2d(\n",
    "            in_channels=1, out_channels=6, kernel_size=5, padding=2)\n",
    "        self.act1  = torch.nn.Tanh()\n",
    "        self.pool1 = torch.nn.AvgPool2d(kernel_size=2, stride=2)\n",
    "       \n",
    "        self.conv2 = torch.nn.Conv2d(\n",
    "            in_channels=6, out_channels=16, kernel_size=5, padding=0)\n",
    "        self.act2  = torch.nn.Tanh()\n",
    "        self.pool2 = torch.nn.AvgPool2d(kernel_size=2, stride=2)\n",
    "        \n",
    "        self.fc1   = torch.nn.Linear(5 * 5 * 16, 120)\n",
    "        self.act3  = torch.nn.Tanh()\n",
    "        \n",
    "        self.fc2   = torch.nn.Linear(120, 84)\n",
    "        self.act4  = torch.nn.Tanh()\n",
    "        \n",
    "        self.fc3   = torch.nn.Linear(84, 10)\n",
    "    \n",
    "    def forward(self, x):\n",
    "        \n",
    "        x = self.conv1(x)\n",
    "        x = self.act1(x)\n",
    "        x = self.pool1(x)\n",
    "        \n",
    "        x = self.conv2(x)\n",
    "        x = self.act2(x)\n",
    "        x = self.pool2(x)\n",
    "        \n",
    "        x = x.view(x.size(0), x.size(1) * x.size(2) * x.size(3))\n",
    "\n",
    "        x = self.fc1(x)\n",
    "        x = self.act3(x)\n",
    "        x = self.fc2(x)\n",
    "        x = self.act4(x)\n",
    "        x = self.fc3(x)\n",
    "        \n",
    "        return x\n",
    "    \n",
    "lenet5 = LeNet5()"
   ]
  },
  {
   "cell_type": "code",
   "execution_count": 10,
   "metadata": {
    "colab": {},
    "colab_type": "code",
    "execution": {
     "iopub.execute_input": "2022-02-02T14:58:50.476476Z",
     "iopub.status.busy": "2022-02-02T14:58:50.476213Z",
     "iopub.status.idle": "2022-02-02T14:58:50.480426Z",
     "shell.execute_reply": "2022-02-02T14:58:50.479764Z",
     "shell.execute_reply.started": "2022-02-02T14:58:50.476449Z"
    },
    "id": "qT-PsO7VNZfB"
   },
   "outputs": [],
   "source": [
    "device = torch.device('cuda:0' if torch.cuda.is_available() else 'cpu')\n",
    "lenet5 = lenet5.to(device)"
   ]
  },
  {
   "cell_type": "code",
   "execution_count": 11,
   "metadata": {
    "colab": {},
    "colab_type": "code",
    "execution": {
     "iopub.execute_input": "2022-02-02T14:58:53.344799Z",
     "iopub.status.busy": "2022-02-02T14:58:53.344540Z",
     "iopub.status.idle": "2022-02-02T14:58:53.348322Z",
     "shell.execute_reply": "2022-02-02T14:58:53.347682Z",
     "shell.execute_reply.started": "2022-02-02T14:58:53.344772Z"
    },
    "id": "rkK0kv1VNZfL"
   },
   "outputs": [],
   "source": [
    "loss = torch.nn.CrossEntropyLoss()\n",
    "optimizer = torch.optim.Adam(lenet5.parameters(), lr=1.0e-3)"
   ]
  },
  {
   "cell_type": "code",
   "execution_count": 20,
   "metadata": {
    "colab": {
     "base_uri": "https://localhost:8080/",
     "height": 399
    },
    "colab_type": "code",
    "execution": {
     "iopub.execute_input": "2022-02-02T15:02:35.133237Z",
     "iopub.status.busy": "2022-02-02T15:02:35.132978Z",
     "iopub.status.idle": "2022-02-02T15:11:28.626953Z",
     "shell.execute_reply": "2022-02-02T15:11:28.626151Z",
     "shell.execute_reply.started": "2022-02-02T15:02:35.133208Z"
    },
    "id": "XfA9gqSdNZfQ",
    "outputId": "d849c6a3-e134-4935-813b-b05f63a96ed6",
    "tags": []
   },
   "outputs": [
    {
     "name": "stdout",
     "output_type": "stream",
     "text": [
      "tensor(0.9871)\n",
      "tensor(0.9877)\n",
      "tensor(0.9875)\n",
      "tensor(0.9878)\n",
      "tensor(0.9892)\n",
      "tensor(0.9875)\n",
      "tensor(0.9891)\n",
      "tensor(0.9890)\n",
      "tensor(0.9898)\n",
      "tensor(0.9902)\n",
      "tensor(0.9891)\n",
      "tensor(0.9887)\n",
      "tensor(0.9883)\n",
      "tensor(0.9888)\n",
      "tensor(0.9879)\n",
      "tensor(0.9909)\n",
      "tensor(0.9884)\n",
      "tensor(0.9887)\n",
      "tensor(0.9886)\n",
      "tensor(0.9908)\n",
      "tensor(0.9892)\n",
      "tensor(0.9912)\n",
      "tensor(0.9876)\n",
      "tensor(0.9909)\n",
      "tensor(0.9888)\n",
      "tensor(0.9884)\n",
      "tensor(0.9908)\n",
      "tensor(0.9890)\n",
      "tensor(0.9879)\n",
      "tensor(0.9898)\n",
      "tensor(0.9881)\n",
      "tensor(0.9876)\n",
      "tensor(0.9882)\n",
      "tensor(0.9891)\n",
      "tensor(0.9906)\n",
      "tensor(0.9896)\n",
      "tensor(0.9890)\n",
      "tensor(0.9904)\n",
      "tensor(0.9888)\n",
      "tensor(0.9897)\n",
      "tensor(0.9896)\n",
      "tensor(0.9897)\n",
      "tensor(0.9884)\n",
      "tensor(0.9915)\n",
      "tensor(0.9907)\n",
      "tensor(0.9894)\n",
      "tensor(0.9882)\n",
      "tensor(0.9888)\n",
      "tensor(0.9900)\n",
      "tensor(0.9907)\n",
      "tensor(0.9897)\n",
      "tensor(0.9903)\n",
      "tensor(0.9883)\n",
      "tensor(0.9894)\n",
      "tensor(0.9883)\n",
      "tensor(0.9891)\n",
      "tensor(0.9891)\n",
      "tensor(0.9899)\n"
     ]
    },
    {
     "ename": "KeyboardInterrupt",
     "evalue": "",
     "output_type": "error",
     "traceback": [
      "\u001b[0;31m---------------------------------------------------------------------------\u001b[0m",
      "\u001b[0;31mKeyboardInterrupt\u001b[0m                         Traceback (most recent call last)",
      "\u001b[0;32m/var/folders/4_/g8n2kzxs5z57t7sp7lx7wx5h0000gn/T/ipykernel_20236/2903501926.py\u001b[0m in \u001b[0;36m<module>\u001b[0;34m\u001b[0m\n\u001b[1;32m     17\u001b[0m         \u001b[0my_batch\u001b[0m \u001b[0;34m=\u001b[0m \u001b[0my_train\u001b[0m\u001b[0;34m[\u001b[0m\u001b[0mbatch_indexes\u001b[0m\u001b[0;34m]\u001b[0m\u001b[0;34m.\u001b[0m\u001b[0mto\u001b[0m\u001b[0;34m(\u001b[0m\u001b[0mdevice\u001b[0m\u001b[0;34m)\u001b[0m\u001b[0;34m\u001b[0m\u001b[0;34m\u001b[0m\u001b[0m\n\u001b[1;32m     18\u001b[0m \u001b[0;34m\u001b[0m\u001b[0m\n\u001b[0;32m---> 19\u001b[0;31m         \u001b[0mpreds\u001b[0m \u001b[0;34m=\u001b[0m \u001b[0mlenet5\u001b[0m\u001b[0;34m.\u001b[0m\u001b[0mforward\u001b[0m\u001b[0;34m(\u001b[0m\u001b[0mX_batch\u001b[0m\u001b[0;34m)\u001b[0m\u001b[0;34m\u001b[0m\u001b[0;34m\u001b[0m\u001b[0m\n\u001b[0m\u001b[1;32m     20\u001b[0m \u001b[0;34m\u001b[0m\u001b[0m\n\u001b[1;32m     21\u001b[0m         \u001b[0mloss_value\u001b[0m \u001b[0;34m=\u001b[0m \u001b[0mloss\u001b[0m\u001b[0;34m(\u001b[0m\u001b[0mpreds\u001b[0m\u001b[0;34m,\u001b[0m \u001b[0my_batch\u001b[0m\u001b[0;34m)\u001b[0m\u001b[0;34m\u001b[0m\u001b[0;34m\u001b[0m\u001b[0m\n",
      "\u001b[0;32m/var/folders/4_/g8n2kzxs5z57t7sp7lx7wx5h0000gn/T/ipykernel_20236/2417516522.py\u001b[0m in \u001b[0;36mforward\u001b[0;34m(self, x)\u001b[0m\n\u001b[1;32m     23\u001b[0m     \u001b[0;32mdef\u001b[0m \u001b[0mforward\u001b[0m\u001b[0;34m(\u001b[0m\u001b[0mself\u001b[0m\u001b[0;34m,\u001b[0m \u001b[0mx\u001b[0m\u001b[0;34m)\u001b[0m\u001b[0;34m:\u001b[0m\u001b[0;34m\u001b[0m\u001b[0;34m\u001b[0m\u001b[0m\n\u001b[1;32m     24\u001b[0m \u001b[0;34m\u001b[0m\u001b[0m\n\u001b[0;32m---> 25\u001b[0;31m         \u001b[0mx\u001b[0m \u001b[0;34m=\u001b[0m \u001b[0mself\u001b[0m\u001b[0;34m.\u001b[0m\u001b[0mconv1\u001b[0m\u001b[0;34m(\u001b[0m\u001b[0mx\u001b[0m\u001b[0;34m)\u001b[0m\u001b[0;34m\u001b[0m\u001b[0;34m\u001b[0m\u001b[0m\n\u001b[0m\u001b[1;32m     26\u001b[0m         \u001b[0mx\u001b[0m \u001b[0;34m=\u001b[0m \u001b[0mself\u001b[0m\u001b[0;34m.\u001b[0m\u001b[0mact1\u001b[0m\u001b[0;34m(\u001b[0m\u001b[0mx\u001b[0m\u001b[0;34m)\u001b[0m\u001b[0;34m\u001b[0m\u001b[0;34m\u001b[0m\u001b[0m\n\u001b[1;32m     27\u001b[0m         \u001b[0mx\u001b[0m \u001b[0;34m=\u001b[0m \u001b[0mself\u001b[0m\u001b[0;34m.\u001b[0m\u001b[0mpool1\u001b[0m\u001b[0;34m(\u001b[0m\u001b[0mx\u001b[0m\u001b[0;34m)\u001b[0m\u001b[0;34m\u001b[0m\u001b[0;34m\u001b[0m\u001b[0m\n",
      "\u001b[0;32m/usr/local/anaconda3/envs/rl_learn_v2/lib/python3.9/site-packages/torch/nn/modules/module.py\u001b[0m in \u001b[0;36m_call_impl\u001b[0;34m(self, *input, **kwargs)\u001b[0m\n\u001b[1;32m   1100\u001b[0m         if not (self._backward_hooks or self._forward_hooks or self._forward_pre_hooks or _global_backward_hooks\n\u001b[1;32m   1101\u001b[0m                 or _global_forward_hooks or _global_forward_pre_hooks):\n\u001b[0;32m-> 1102\u001b[0;31m             \u001b[0;32mreturn\u001b[0m \u001b[0mforward_call\u001b[0m\u001b[0;34m(\u001b[0m\u001b[0;34m*\u001b[0m\u001b[0minput\u001b[0m\u001b[0;34m,\u001b[0m \u001b[0;34m**\u001b[0m\u001b[0mkwargs\u001b[0m\u001b[0;34m)\u001b[0m\u001b[0;34m\u001b[0m\u001b[0;34m\u001b[0m\u001b[0m\n\u001b[0m\u001b[1;32m   1103\u001b[0m         \u001b[0;31m# Do not call functions when jit is used\u001b[0m\u001b[0;34m\u001b[0m\u001b[0;34m\u001b[0m\u001b[0m\n\u001b[1;32m   1104\u001b[0m         \u001b[0mfull_backward_hooks\u001b[0m\u001b[0;34m,\u001b[0m \u001b[0mnon_full_backward_hooks\u001b[0m \u001b[0;34m=\u001b[0m \u001b[0;34m[\u001b[0m\u001b[0;34m]\u001b[0m\u001b[0;34m,\u001b[0m \u001b[0;34m[\u001b[0m\u001b[0;34m]\u001b[0m\u001b[0;34m\u001b[0m\u001b[0;34m\u001b[0m\u001b[0m\n",
      "\u001b[0;32m/usr/local/anaconda3/envs/rl_learn_v2/lib/python3.9/site-packages/torch/nn/modules/conv.py\u001b[0m in \u001b[0;36mforward\u001b[0;34m(self, input)\u001b[0m\n\u001b[1;32m    444\u001b[0m \u001b[0;34m\u001b[0m\u001b[0m\n\u001b[1;32m    445\u001b[0m     \u001b[0;32mdef\u001b[0m \u001b[0mforward\u001b[0m\u001b[0;34m(\u001b[0m\u001b[0mself\u001b[0m\u001b[0;34m,\u001b[0m \u001b[0minput\u001b[0m\u001b[0;34m:\u001b[0m \u001b[0mTensor\u001b[0m\u001b[0;34m)\u001b[0m \u001b[0;34m->\u001b[0m \u001b[0mTensor\u001b[0m\u001b[0;34m:\u001b[0m\u001b[0;34m\u001b[0m\u001b[0;34m\u001b[0m\u001b[0m\n\u001b[0;32m--> 446\u001b[0;31m         \u001b[0;32mreturn\u001b[0m \u001b[0mself\u001b[0m\u001b[0;34m.\u001b[0m\u001b[0m_conv_forward\u001b[0m\u001b[0;34m(\u001b[0m\u001b[0minput\u001b[0m\u001b[0;34m,\u001b[0m \u001b[0mself\u001b[0m\u001b[0;34m.\u001b[0m\u001b[0mweight\u001b[0m\u001b[0;34m,\u001b[0m \u001b[0mself\u001b[0m\u001b[0;34m.\u001b[0m\u001b[0mbias\u001b[0m\u001b[0;34m)\u001b[0m\u001b[0;34m\u001b[0m\u001b[0;34m\u001b[0m\u001b[0m\n\u001b[0m\u001b[1;32m    447\u001b[0m \u001b[0;34m\u001b[0m\u001b[0m\n\u001b[1;32m    448\u001b[0m \u001b[0;32mclass\u001b[0m \u001b[0mConv3d\u001b[0m\u001b[0;34m(\u001b[0m\u001b[0m_ConvNd\u001b[0m\u001b[0;34m)\u001b[0m\u001b[0;34m:\u001b[0m\u001b[0;34m\u001b[0m\u001b[0;34m\u001b[0m\u001b[0m\n",
      "\u001b[0;32m/usr/local/anaconda3/envs/rl_learn_v2/lib/python3.9/site-packages/torch/nn/modules/conv.py\u001b[0m in \u001b[0;36m_conv_forward\u001b[0;34m(self, input, weight, bias)\u001b[0m\n\u001b[1;32m    440\u001b[0m                             \u001b[0mweight\u001b[0m\u001b[0;34m,\u001b[0m \u001b[0mbias\u001b[0m\u001b[0;34m,\u001b[0m \u001b[0mself\u001b[0m\u001b[0;34m.\u001b[0m\u001b[0mstride\u001b[0m\u001b[0;34m,\u001b[0m\u001b[0;34m\u001b[0m\u001b[0;34m\u001b[0m\u001b[0m\n\u001b[1;32m    441\u001b[0m                             _pair(0), self.dilation, self.groups)\n\u001b[0;32m--> 442\u001b[0;31m         return F.conv2d(input, weight, bias, self.stride,\n\u001b[0m\u001b[1;32m    443\u001b[0m                         self.padding, self.dilation, self.groups)\n\u001b[1;32m    444\u001b[0m \u001b[0;34m\u001b[0m\u001b[0m\n",
      "\u001b[0;31mKeyboardInterrupt\u001b[0m: "
     ]
    }
   ],
   "source": [
    "batch_size = 100\n",
    "\n",
    "test_accuracy_history = []\n",
    "test_loss_history = []\n",
    "\n",
    "X_test = X_test.to(device)\n",
    "y_test = y_test.to(device)\n",
    "\n",
    "for epoch in range(10000):\n",
    "    order = np.random.permutation(len(X_train))\n",
    "    for start_index in range(0, len(X_train), batch_size):\n",
    "        optimizer.zero_grad()\n",
    "        \n",
    "        batch_indexes = order[start_index:start_index+batch_size]\n",
    "        \n",
    "        X_batch = X_train[batch_indexes].to(device)\n",
    "        y_batch = y_train[batch_indexes].to(device)\n",
    "        \n",
    "        preds = lenet5.forward(X_batch) \n",
    "        \n",
    "        loss_value = loss(preds, y_batch)\n",
    "        loss_value.backward()\n",
    "        \n",
    "        optimizer.step()\n",
    "        \n",
    "    test_preds = lenet5.forward(X_test)\n",
    "    test_loss_history.append(loss(test_preds, y_test).data.cpu())\n",
    "    \n",
    "    accuracy = (test_preds.argmax(dim=1) == y_test).float().mean().data.cpu()\n",
    "    test_accuracy_history.append(accuracy)\n",
    "    \n",
    "    print(accuracy)"
   ]
  },
  {
   "cell_type": "code",
   "execution_count": 13,
   "metadata": {
    "colab": {},
    "colab_type": "code",
    "execution": {
     "iopub.execute_input": "2022-02-02T14:59:49.416771Z",
     "iopub.status.busy": "2022-02-02T14:59:49.416512Z",
     "iopub.status.idle": "2022-02-02T14:59:49.784314Z",
     "shell.execute_reply": "2022-02-02T14:59:49.783857Z",
     "shell.execute_reply.started": "2022-02-02T14:59:49.416744Z"
    },
    "id": "H4hjogO8NZfS"
   },
   "outputs": [
    {
     "data": {
      "text/plain": [
       "tensor([[-1.7588,  0.1596,  0.9380,  ..., 12.0781, -1.5034,  2.3292],\n",
       "        [ 1.0415,  0.4950, 11.8345,  ..., -2.0527,  1.4526, -3.8424],\n",
       "        [-1.5296, 11.6799, -2.0992,  ..., -0.0139,  1.3415, -1.0743],\n",
       "        ...,\n",
       "        [-4.1056, -1.3735, -2.9532,  ...,  0.7829,  0.9772,  3.2448],\n",
       "        [-1.2732, -3.3438, -4.3068,  ..., -5.9501,  3.0986, -0.6883],\n",
       "        [ 0.8173, -3.0375,  0.5463,  ..., -6.1036, -1.1708, -3.3193]],\n",
       "       grad_fn=<AddmmBackward0>)"
      ]
     },
     "execution_count": 13,
     "metadata": {},
     "output_type": "execute_result"
    }
   ],
   "source": [
    "lenet5.forward(X_test)"
   ]
  },
  {
   "cell_type": "code",
   "execution_count": 21,
   "metadata": {
    "colab": {},
    "colab_type": "code",
    "execution": {
     "iopub.execute_input": "2022-02-02T15:11:36.469378Z",
     "iopub.status.busy": "2022-02-02T15:11:36.469123Z",
     "iopub.status.idle": "2022-02-02T15:11:36.665103Z",
     "shell.execute_reply": "2022-02-02T15:11:36.664295Z",
     "shell.execute_reply.started": "2022-02-02T15:11:36.469351Z"
    },
    "id": "4FDtagQvNZfU",
    "tags": []
   },
   "outputs": [
    {
     "data": {
      "image/png": "[encoded data removed]",
      "text/plain": [
       "<Figure size 432x288 with 1 Axes>"
      ]
     },
     "metadata": {
      "needs_background": "light"
     },
     "output_type": "display_data"
    },
    {
     "data": {
      "image/png": "[encoded data removed]",
      "text/plain": [
       "<Figure size 432x288 with 1 Axes>"
      ]
     },
     "metadata": {
      "needs_background": "light"
     },
     "output_type": "display_data"
    }
   ],
   "source": [
    "plt.plot(test_accuracy_history);\n",
    "plt.figure()\n",
    "plt.plot(test_loss_history);"
   ]
  },
  {
   "cell_type": "code",
   "execution_count": null,
   "metadata": {
    "colab": {},
    "colab_type": "code",
    "id": "vta37dlSNZfZ"
   },
   "outputs": [],
   "source": []
  }
 ],
 "metadata": {
  "accelerator": "GPU",
  "colab": {
   "collapsed_sections": [],
   "name": "Lesson 6 Digits Recognition Convolutional Video.ipynb",
   "provenance": [],
   "version": "0.3.2"
  },
  "kernelspec": {
   "display_name": "rl_learn_v2",
   "language": "python",
   "name": "rl_learn_v2"
  },
  "language_info": {
   "codemirror_mode": {
    "name": "ipython",
    "version": 3
   },
   "file_extension": ".py",
   "mimetype": "text/x-python",
   "name": "python",
   "nbconvert_exporter": "python",
   "pygments_lexer": "ipython3",
   "version": "3.9.7"
  }
 },
 "nbformat": 4,
 "nbformat_minor": 4
}

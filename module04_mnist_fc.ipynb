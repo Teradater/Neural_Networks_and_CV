{
 "cells": [
  {
   "cell_type": "code",
   "execution_count": 1,
   "metadata": {
    "colab": {},
    "colab_type": "code",
    "execution": {
     "iopub.execute_input": "2022-02-02T09:50:30.631823Z",
     "iopub.status.busy": "2022-02-02T09:50:30.631519Z",
     "iopub.status.idle": "2022-02-02T09:50:31.655828Z",
     "shell.execute_reply": "2022-02-02T09:50:31.655458Z",
     "shell.execute_reply.started": "2022-02-02T09:50:30.631752Z"
    },
    "id": "DWr6cvb9pS3J"
   },
   "outputs": [],
   "source": [
    "import torch\n",
    "import random\n",
    "import numpy as np\n",
    "\n",
    "random.seed(0)\n",
    "np.random.seed(0)\n",
    "torch.manual_seed(0)\n",
    "torch.cuda.manual_seed(0)\n",
    "torch.backends.cudnn.deterministic = True"
   ]
  },
  {
   "cell_type": "code",
   "execution_count": null,
   "metadata": {
    "colab": {},
    "colab_type": "code",
    "id": "MqGQWTDIpS3R",
    "tags": []
   },
   "outputs": [],
   "source": [
    "import torchvision.datasets\n",
    "MNIST_train = torchvision.datasets.MNIST('./', download=True, train=True)\n",
    "MNIST_test = torchvision.datasets.MNIST('./', download=True, train=False)"
   ]
  },
  {
   "cell_type": "code",
   "execution_count": null,
   "metadata": {
    "colab": {},
    "colab_type": "code",
    "id": "vv_Lz7PYpS3U",
    "tags": []
   },
   "outputs": [],
   "source": [
    "X_train = MNIST_train.train_data\n",
    "y_train = MNIST_train.train_labels\n",
    "X_test = MNIST_test.test_data\n",
    "y_test = MNIST_test.test_labels"
   ]
  },
  {
   "cell_type": "code",
   "execution_count": 6,
   "metadata": {
    "colab": {
     "base_uri": "https://localhost:8080/",
     "height": 35
    },
    "colab_type": "code",
    "execution": {
     "iopub.execute_input": "2022-02-02T09:51:23.445400Z",
     "iopub.status.busy": "2022-02-02T09:51:23.445117Z",
     "iopub.status.idle": "2022-02-02T09:51:23.450011Z",
     "shell.execute_reply": "2022-02-02T09:51:23.449411Z",
     "shell.execute_reply.started": "2022-02-02T09:51:23.445371Z"
    },
    "id": "hMhsAedlrQF5",
    "outputId": "ae08bd21-79ff-48da-9886-48996a178110"
   },
   "outputs": [
    {
     "data": {
      "text/plain": [
       "(torch.uint8, torch.int64)"
      ]
     },
     "execution_count": 6,
     "metadata": {},
     "output_type": "execute_result"
    }
   ],
   "source": [
    "X_train.dtype, y_train.dtype"
   ]
  },
  {
   "cell_type": "code",
   "execution_count": 8,
   "metadata": {
    "colab": {},
    "colab_type": "code",
    "execution": {
     "iopub.execute_input": "2022-02-02T09:51:41.974398Z",
     "iopub.status.busy": "2022-02-02T09:51:41.974132Z",
     "iopub.status.idle": "2022-02-02T09:51:42.016793Z",
     "shell.execute_reply": "2022-02-02T09:51:42.016244Z",
     "shell.execute_reply.started": "2022-02-02T09:51:41.974372Z"
    },
    "id": "_yTaVOrPvap6"
   },
   "outputs": [],
   "source": [
    "X_train = X_train.float()\n",
    "X_test = X_test.float()"
   ]
  },
  {
   "cell_type": "code",
   "execution_count": 9,
   "metadata": {
    "colab": {
     "base_uri": "https://localhost:8080/",
     "height": 35
    },
    "colab_type": "code",
    "execution": {
     "iopub.execute_input": "2022-02-02T09:51:44.477174Z",
     "iopub.status.busy": "2022-02-02T09:51:44.476585Z",
     "iopub.status.idle": "2022-02-02T09:51:44.481379Z",
     "shell.execute_reply": "2022-02-02T09:51:44.480825Z",
     "shell.execute_reply.started": "2022-02-02T09:51:44.477142Z"
    },
    "id": "_gfupg4kpS3X",
    "outputId": "e72c3ff4-50f7-4695-d5d5-f838e7ac2667"
   },
   "outputs": [
    {
     "data": {
      "text/plain": [
       "(torch.Size([60000, 28, 28]), torch.Size([10000, 28, 28]))"
      ]
     },
     "execution_count": 9,
     "metadata": {},
     "output_type": "execute_result"
    }
   ],
   "source": [
    "X_train.shape, X_test.shape"
   ]
  },
  {
   "cell_type": "code",
   "execution_count": 10,
   "metadata": {
    "colab": {
     "base_uri": "https://localhost:8080/",
     "height": 35
    },
    "colab_type": "code",
    "execution": {
     "iopub.execute_input": "2022-02-02T09:51:52.471851Z",
     "iopub.status.busy": "2022-02-02T09:51:52.471563Z",
     "iopub.status.idle": "2022-02-02T09:51:52.476423Z",
     "shell.execute_reply": "2022-02-02T09:51:52.475744Z",
     "shell.execute_reply.started": "2022-02-02T09:51:52.471822Z"
    },
    "id": "zEC1RXBEz_SW",
    "outputId": "48b9a605-2622-4188-b326-116b675bd499"
   },
   "outputs": [
    {
     "data": {
      "text/plain": [
       "(torch.Size([60000]), torch.Size([10000]))"
      ]
     },
     "execution_count": 10,
     "metadata": {},
     "output_type": "execute_result"
    }
   ],
   "source": [
    "y_train.shape, y_test.shape"
   ]
  },
  {
   "cell_type": "code",
   "execution_count": 11,
   "metadata": {
    "colab": {
     "base_uri": "https://localhost:8080/",
     "height": 365
    },
    "colab_type": "code",
    "execution": {
     "iopub.execute_input": "2022-02-02T09:52:23.548826Z",
     "iopub.status.busy": "2022-02-02T09:52:23.548560Z",
     "iopub.status.idle": "2022-02-02T09:52:23.980553Z",
     "shell.execute_reply": "2022-02-02T09:52:23.979844Z",
     "shell.execute_reply.started": "2022-02-02T09:52:23.548796Z"
    },
    "id": "Z1tFXMwJpS3e",
    "outputId": "e7c2778b-d6f5-4718-ea28-fc8544f0416c"
   },
   "outputs": [
    {
     "data": {
      "image/png": "[encoded data removed]",
      "text/plain": [
       "<Figure size 432x288 with 1 Axes>"
      ]
     },
     "metadata": {
      "needs_background": "light"
     },
     "output_type": "display_data"
    },
    {
     "name": "stdout",
     "output_type": "stream",
     "text": [
      "tensor(5)\n"
     ]
    }
   ],
   "source": [
    "import matplotlib.pyplot as plt\n",
    "plt.imshow(X_train[0, :, :])\n",
    "plt.show()\n",
    "print(y_train[0])"
   ]
  },
  {
   "cell_type": "code",
   "execution_count": 12,
   "metadata": {
    "colab": {},
    "colab_type": "code",
    "execution": {
     "iopub.execute_input": "2022-02-02T09:52:36.358460Z",
     "iopub.status.busy": "2022-02-02T09:52:36.358192Z",
     "iopub.status.idle": "2022-02-02T09:52:36.362436Z",
     "shell.execute_reply": "2022-02-02T09:52:36.361726Z",
     "shell.execute_reply.started": "2022-02-02T09:52:36.358432Z"
    },
    "id": "IUZgNg7zpS3j"
   },
   "outputs": [],
   "source": [
    "X_train = X_train.reshape([-1, 28 * 28])\n",
    "X_test = X_test.reshape([-1, 28 * 28])"
   ]
  },
  {
   "cell_type": "code",
   "execution_count": 27,
   "metadata": {
    "colab": {},
    "colab_type": "code",
    "execution": {
     "iopub.execute_input": "2022-02-02T10:15:20.131736Z",
     "iopub.status.busy": "2022-02-02T10:15:20.131522Z",
     "iopub.status.idle": "2022-02-02T10:15:20.136418Z",
     "shell.execute_reply": "2022-02-02T10:15:20.135877Z",
     "shell.execute_reply.started": "2022-02-02T10:15:20.131715Z"
    },
    "id": "k7l65slppS3l",
    "tags": []
   },
   "outputs": [],
   "source": [
    "class MNISTNet(torch.nn.Module):\n",
    "    def __init__(self, n_hidden_neurons):\n",
    "        super(MNISTNet, self).__init__()\n",
    "        self.fc1 = torch.nn.Linear(28 * 28, n_hidden_neurons)\n",
    "        self.ac1 = torch.nn.Sigmoid()\n",
    "        self.fc2 = torch.nn.Linear(n_hidden_neurons, 10) \n",
    "    \n",
    "    def forward(self, x):\n",
    "        x = self.fc1(x)\n",
    "        x = self.ac1(x)\n",
    "        x = self.fc2(x)\n",
    "        return x\n",
    "    \n",
    "mnist_net = MNISTNet(100)"
   ]
  },
  {
   "cell_type": "code",
   "execution_count": null,
   "metadata": {
    "colab": {},
    "colab_type": "code",
    "id": "FJp7t3dR0pC5"
   },
   "outputs": [],
   "source": [
    "# torch.cuda.is_available()"
   ]
  },
  {
   "cell_type": "code",
   "execution_count": null,
   "metadata": {
    "colab": {},
    "colab_type": "code",
    "id": "ShQDv_w-0rz8"
   },
   "outputs": [],
   "source": [
    "# !nvidia-smi"
   ]
  },
  {
   "cell_type": "code",
   "execution_count": null,
   "metadata": {
    "colab": {},
    "colab_type": "code",
    "id": "iUHy-780po9d"
   },
   "outputs": [],
   "source": [
    "# device = torch.device('cuda:0' if torch.cuda.is_available() else 'cpu')\n",
    "# mnist_net = mnist_net.to(device)\n",
    "# list(mnist_net.parameters())"
   ]
  },
  {
   "cell_type": "code",
   "execution_count": 28,
   "metadata": {
    "colab": {},
    "colab_type": "code",
    "execution": {
     "iopub.execute_input": "2022-02-02T10:15:22.499623Z",
     "iopub.status.busy": "2022-02-02T10:15:22.499390Z",
     "iopub.status.idle": "2022-02-02T10:15:22.502916Z",
     "shell.execute_reply": "2022-02-02T10:15:22.502375Z",
     "shell.execute_reply.started": "2022-02-02T10:15:22.499598Z"
    },
    "id": "00_2j2igpS3o",
    "tags": []
   },
   "outputs": [],
   "source": [
    "loss = torch.nn.CrossEntropyLoss()\n",
    "optimizer = torch.optim.Adam(mnist_net.parameters(), lr=1.0e-3)"
   ]
  },
  {
   "cell_type": "code",
   "execution_count": 29,
   "metadata": {
    "colab": {},
    "colab_type": "code",
    "execution": {
     "iopub.execute_input": "2022-02-02T10:15:22.836792Z",
     "iopub.status.busy": "2022-02-02T10:15:22.836551Z",
     "iopub.status.idle": "2022-02-02T10:17:40.499350Z",
     "shell.execute_reply": "2022-02-02T10:17:40.498558Z",
     "shell.execute_reply.started": "2022-02-02T10:15:22.836768Z"
    },
    "id": "wZtqiGvfpS3r",
    "tags": []
   },
   "outputs": [
    {
     "name": "stdout",
     "output_type": "stream",
     "text": [
      "tensor(0.9077)\n",
      "tensor(0.9146)\n",
      "tensor(0.9236)\n",
      "tensor(0.9268)\n",
      "tensor(0.9244)\n",
      "tensor(0.9258)\n",
      "tensor(0.9303)\n",
      "tensor(0.9273)\n",
      "tensor(0.9320)\n",
      "tensor(0.9328)\n",
      "tensor(0.9391)\n",
      "tensor(0.9335)\n",
      "tensor(0.9337)\n",
      "tensor(0.9343)\n",
      "tensor(0.9374)\n",
      "tensor(0.9405)\n",
      "tensor(0.9413)\n",
      "tensor(0.9423)\n",
      "tensor(0.9372)\n",
      "tensor(0.9366)\n",
      "tensor(0.9388)\n",
      "tensor(0.9412)\n",
      "tensor(0.9423)\n",
      "tensor(0.9459)\n",
      "tensor(0.9380)\n",
      "tensor(0.9417)\n",
      "tensor(0.9412)\n",
      "tensor(0.9418)\n",
      "tensor(0.9441)\n",
      "tensor(0.9444)\n",
      "tensor(0.9486)\n",
      "tensor(0.9443)\n",
      "tensor(0.9434)\n",
      "tensor(0.9450)\n",
      "tensor(0.9449)\n",
      "tensor(0.9429)\n",
      "tensor(0.9472)\n",
      "tensor(0.9451)\n",
      "tensor(0.9513)\n",
      "tensor(0.9494)\n",
      "tensor(0.9453)\n",
      "tensor(0.9506)\n",
      "tensor(0.9505)\n",
      "tensor(0.9509)\n",
      "tensor(0.9516)\n",
      "tensor(0.9519)\n",
      "tensor(0.9483)\n",
      "tensor(0.9511)\n",
      "tensor(0.9508)\n",
      "tensor(0.9532)\n",
      "tensor(0.9501)\n",
      "tensor(0.9493)\n",
      "tensor(0.9534)\n",
      "tensor(0.9514)\n",
      "tensor(0.9506)\n",
      "tensor(0.9537)\n",
      "tensor(0.9511)\n",
      "tensor(0.9514)\n",
      "tensor(0.9514)\n",
      "tensor(0.9559)\n",
      "tensor(0.9544)\n",
      "tensor(0.9524)\n",
      "tensor(0.9534)\n",
      "tensor(0.9512)\n",
      "tensor(0.9512)\n",
      "tensor(0.9512)\n",
      "tensor(0.9567)\n",
      "tensor(0.9532)\n",
      "tensor(0.9558)\n",
      "tensor(0.9477)\n",
      "tensor(0.9507)\n",
      "tensor(0.9558)\n",
      "tensor(0.9557)\n",
      "tensor(0.9574)\n",
      "tensor(0.9568)\n",
      "tensor(0.9573)\n",
      "tensor(0.9539)\n",
      "tensor(0.9515)\n",
      "tensor(0.9541)\n",
      "tensor(0.9572)\n",
      "tensor(0.9552)\n",
      "tensor(0.9563)\n",
      "tensor(0.9543)\n",
      "tensor(0.9549)\n",
      "tensor(0.9554)\n",
      "tensor(0.9529)\n",
      "tensor(0.9522)\n",
      "tensor(0.9591)\n",
      "tensor(0.9520)\n",
      "tensor(0.9549)\n",
      "tensor(0.9558)\n",
      "tensor(0.9602)\n",
      "tensor(0.9587)\n",
      "tensor(0.9596)\n",
      "tensor(0.9582)\n",
      "tensor(0.9592)\n",
      "tensor(0.9588)\n",
      "tensor(0.9566)\n",
      "tensor(0.9581)\n",
      "tensor(0.9575)\n",
      "tensor(0.9577)\n",
      "tensor(0.9592)\n",
      "tensor(0.9558)\n",
      "tensor(0.9561)\n",
      "tensor(0.9587)\n",
      "tensor(0.9554)\n",
      "tensor(0.9570)\n",
      "tensor(0.9576)\n",
      "tensor(0.9580)\n",
      "tensor(0.9558)\n",
      "tensor(0.9574)\n",
      "tensor(0.9582)\n",
      "tensor(0.9590)\n",
      "tensor(0.9593)\n",
      "tensor(0.9632)\n",
      "tensor(0.9598)\n",
      "tensor(0.9593)\n",
      "tensor(0.9561)\n",
      "tensor(0.9583)\n",
      "tensor(0.9557)\n",
      "tensor(0.9557)\n",
      "tensor(0.9604)\n",
      "tensor(0.9595)\n",
      "tensor(0.9580)\n",
      "tensor(0.9559)\n",
      "tensor(0.9571)\n",
      "tensor(0.9574)\n",
      "tensor(0.9573)\n",
      "tensor(0.9562)\n",
      "tensor(0.9580)\n",
      "tensor(0.9596)\n",
      "tensor(0.9562)\n",
      "tensor(0.9611)\n",
      "tensor(0.9595)\n",
      "tensor(0.9586)\n",
      "tensor(0.9579)\n",
      "tensor(0.9587)\n",
      "tensor(0.9614)\n",
      "tensor(0.9596)\n"
     ]
    },
    {
     "ename": "KeyboardInterrupt",
     "evalue": "",
     "output_type": "error",
     "traceback": [
      "\u001b[0;31m---------------------------------------------------------------------------\u001b[0m",
      "\u001b[0;31mKeyboardInterrupt\u001b[0m                         Traceback (most recent call last)",
      "\u001b[0;32m/var/folders/4_/g8n2kzxs5z57t7sp7lx7wx5h0000gn/T/ipykernel_18620/2177534725.py\u001b[0m in \u001b[0;36m<module>\u001b[0;34m\u001b[0m\n\u001b[1;32m     23\u001b[0m         \u001b[0mloss_value\u001b[0m\u001b[0;34m.\u001b[0m\u001b[0mbackward\u001b[0m\u001b[0;34m(\u001b[0m\u001b[0;34m)\u001b[0m\u001b[0;34m\u001b[0m\u001b[0;34m\u001b[0m\u001b[0m\n\u001b[1;32m     24\u001b[0m \u001b[0;34m\u001b[0m\u001b[0m\n\u001b[0;32m---> 25\u001b[0;31m         \u001b[0moptimizer\u001b[0m\u001b[0;34m.\u001b[0m\u001b[0mstep\u001b[0m\u001b[0;34m(\u001b[0m\u001b[0;34m)\u001b[0m\u001b[0;34m\u001b[0m\u001b[0;34m\u001b[0m\u001b[0m\n\u001b[0m\u001b[1;32m     26\u001b[0m \u001b[0;34m\u001b[0m\u001b[0m\n\u001b[1;32m     27\u001b[0m     \u001b[0mtest_preds\u001b[0m \u001b[0;34m=\u001b[0m \u001b[0mmnist_net\u001b[0m\u001b[0;34m.\u001b[0m\u001b[0mforward\u001b[0m\u001b[0;34m(\u001b[0m\u001b[0mX_test\u001b[0m\u001b[0;34m)\u001b[0m\u001b[0;34m\u001b[0m\u001b[0;34m\u001b[0m\u001b[0m\n",
      "\u001b[0;32m/usr/local/anaconda3/envs/rl_learn_v2/lib/python3.9/site-packages/torch/optim/optimizer.py\u001b[0m in \u001b[0;36mwrapper\u001b[0;34m(*args, **kwargs)\u001b[0m\n\u001b[1;32m     86\u001b[0m                 \u001b[0mprofile_name\u001b[0m \u001b[0;34m=\u001b[0m \u001b[0;34m\"Optimizer.step#{}.step\"\u001b[0m\u001b[0;34m.\u001b[0m\u001b[0mformat\u001b[0m\u001b[0;34m(\u001b[0m\u001b[0mobj\u001b[0m\u001b[0;34m.\u001b[0m\u001b[0m__class__\u001b[0m\u001b[0;34m.\u001b[0m\u001b[0m__name__\u001b[0m\u001b[0;34m)\u001b[0m\u001b[0;34m\u001b[0m\u001b[0;34m\u001b[0m\u001b[0m\n\u001b[1;32m     87\u001b[0m                 \u001b[0;32mwith\u001b[0m \u001b[0mtorch\u001b[0m\u001b[0;34m.\u001b[0m\u001b[0mautograd\u001b[0m\u001b[0;34m.\u001b[0m\u001b[0mprofiler\u001b[0m\u001b[0;34m.\u001b[0m\u001b[0mrecord_function\u001b[0m\u001b[0;34m(\u001b[0m\u001b[0mprofile_name\u001b[0m\u001b[0;34m)\u001b[0m\u001b[0;34m:\u001b[0m\u001b[0;34m\u001b[0m\u001b[0;34m\u001b[0m\u001b[0m\n\u001b[0;32m---> 88\u001b[0;31m                     \u001b[0;32mreturn\u001b[0m \u001b[0mfunc\u001b[0m\u001b[0;34m(\u001b[0m\u001b[0;34m*\u001b[0m\u001b[0margs\u001b[0m\u001b[0;34m,\u001b[0m \u001b[0;34m**\u001b[0m\u001b[0mkwargs\u001b[0m\u001b[0;34m)\u001b[0m\u001b[0;34m\u001b[0m\u001b[0;34m\u001b[0m\u001b[0m\n\u001b[0m\u001b[1;32m     89\u001b[0m             \u001b[0;32mreturn\u001b[0m \u001b[0mwrapper\u001b[0m\u001b[0;34m\u001b[0m\u001b[0;34m\u001b[0m\u001b[0m\n\u001b[1;32m     90\u001b[0m \u001b[0;34m\u001b[0m\u001b[0m\n",
      "\u001b[0;32m/usr/local/anaconda3/envs/rl_learn_v2/lib/python3.9/site-packages/torch/autograd/grad_mode.py\u001b[0m in \u001b[0;36mdecorate_context\u001b[0;34m(*args, **kwargs)\u001b[0m\n\u001b[1;32m     26\u001b[0m         \u001b[0;32mdef\u001b[0m \u001b[0mdecorate_context\u001b[0m\u001b[0;34m(\u001b[0m\u001b[0;34m*\u001b[0m\u001b[0margs\u001b[0m\u001b[0;34m,\u001b[0m \u001b[0;34m**\u001b[0m\u001b[0mkwargs\u001b[0m\u001b[0;34m)\u001b[0m\u001b[0;34m:\u001b[0m\u001b[0;34m\u001b[0m\u001b[0;34m\u001b[0m\u001b[0m\n\u001b[1;32m     27\u001b[0m             \u001b[0;32mwith\u001b[0m \u001b[0mself\u001b[0m\u001b[0;34m.\u001b[0m\u001b[0m__class__\u001b[0m\u001b[0;34m(\u001b[0m\u001b[0;34m)\u001b[0m\u001b[0;34m:\u001b[0m\u001b[0;34m\u001b[0m\u001b[0;34m\u001b[0m\u001b[0m\n\u001b[0;32m---> 28\u001b[0;31m                 \u001b[0;32mreturn\u001b[0m \u001b[0mfunc\u001b[0m\u001b[0;34m(\u001b[0m\u001b[0;34m*\u001b[0m\u001b[0margs\u001b[0m\u001b[0;34m,\u001b[0m \u001b[0;34m**\u001b[0m\u001b[0mkwargs\u001b[0m\u001b[0;34m)\u001b[0m\u001b[0;34m\u001b[0m\u001b[0;34m\u001b[0m\u001b[0m\n\u001b[0m\u001b[1;32m     29\u001b[0m         \u001b[0;32mreturn\u001b[0m \u001b[0mcast\u001b[0m\u001b[0;34m(\u001b[0m\u001b[0mF\u001b[0m\u001b[0;34m,\u001b[0m \u001b[0mdecorate_context\u001b[0m\u001b[0;34m)\u001b[0m\u001b[0;34m\u001b[0m\u001b[0;34m\u001b[0m\u001b[0m\n\u001b[1;32m     30\u001b[0m \u001b[0;34m\u001b[0m\u001b[0m\n",
      "\u001b[0;32m/usr/local/anaconda3/envs/rl_learn_v2/lib/python3.9/site-packages/torch/optim/adam.py\u001b[0m in \u001b[0;36mstep\u001b[0;34m(self, closure)\u001b[0m\n\u001b[1;32m    131\u001b[0m                     \u001b[0mstate_steps\u001b[0m\u001b[0;34m.\u001b[0m\u001b[0mappend\u001b[0m\u001b[0;34m(\u001b[0m\u001b[0mstate\u001b[0m\u001b[0;34m[\u001b[0m\u001b[0;34m'step'\u001b[0m\u001b[0;34m]\u001b[0m\u001b[0;34m)\u001b[0m\u001b[0;34m\u001b[0m\u001b[0;34m\u001b[0m\u001b[0m\n\u001b[1;32m    132\u001b[0m \u001b[0;34m\u001b[0m\u001b[0m\n\u001b[0;32m--> 133\u001b[0;31m             F.adam(params_with_grad,\n\u001b[0m\u001b[1;32m    134\u001b[0m                    \u001b[0mgrads\u001b[0m\u001b[0;34m,\u001b[0m\u001b[0;34m\u001b[0m\u001b[0;34m\u001b[0m\u001b[0m\n\u001b[1;32m    135\u001b[0m                    \u001b[0mexp_avgs\u001b[0m\u001b[0;34m,\u001b[0m\u001b[0;34m\u001b[0m\u001b[0;34m\u001b[0m\u001b[0m\n",
      "\u001b[0;32m/usr/local/anaconda3/envs/rl_learn_v2/lib/python3.9/site-packages/torch/optim/_functional.py\u001b[0m in \u001b[0;36madam\u001b[0;34m(params, grads, exp_avgs, exp_avg_sqs, max_exp_avg_sqs, state_steps, amsgrad, beta1, beta2, lr, weight_decay, eps)\u001b[0m\n\u001b[1;32m     84\u001b[0m \u001b[0;34m\u001b[0m\u001b[0m\n\u001b[1;32m     85\u001b[0m         \u001b[0;31m# Decay the first and second moment running average coefficient\u001b[0m\u001b[0;34m\u001b[0m\u001b[0;34m\u001b[0m\u001b[0m\n\u001b[0;32m---> 86\u001b[0;31m         \u001b[0mexp_avg\u001b[0m\u001b[0;34m.\u001b[0m\u001b[0mmul_\u001b[0m\u001b[0;34m(\u001b[0m\u001b[0mbeta1\u001b[0m\u001b[0;34m)\u001b[0m\u001b[0;34m.\u001b[0m\u001b[0madd_\u001b[0m\u001b[0;34m(\u001b[0m\u001b[0mgrad\u001b[0m\u001b[0;34m,\u001b[0m \u001b[0malpha\u001b[0m\u001b[0;34m=\u001b[0m\u001b[0;36m1\u001b[0m \u001b[0;34m-\u001b[0m \u001b[0mbeta1\u001b[0m\u001b[0;34m)\u001b[0m\u001b[0;34m\u001b[0m\u001b[0;34m\u001b[0m\u001b[0m\n\u001b[0m\u001b[1;32m     87\u001b[0m         \u001b[0mexp_avg_sq\u001b[0m\u001b[0;34m.\u001b[0m\u001b[0mmul_\u001b[0m\u001b[0;34m(\u001b[0m\u001b[0mbeta2\u001b[0m\u001b[0;34m)\u001b[0m\u001b[0;34m.\u001b[0m\u001b[0maddcmul_\u001b[0m\u001b[0;34m(\u001b[0m\u001b[0mgrad\u001b[0m\u001b[0;34m,\u001b[0m \u001b[0mgrad\u001b[0m\u001b[0;34m.\u001b[0m\u001b[0mconj\u001b[0m\u001b[0;34m(\u001b[0m\u001b[0;34m)\u001b[0m\u001b[0;34m,\u001b[0m \u001b[0mvalue\u001b[0m\u001b[0;34m=\u001b[0m\u001b[0;36m1\u001b[0m \u001b[0;34m-\u001b[0m \u001b[0mbeta2\u001b[0m\u001b[0;34m)\u001b[0m\u001b[0;34m\u001b[0m\u001b[0;34m\u001b[0m\u001b[0m\n\u001b[1;32m     88\u001b[0m         \u001b[0;32mif\u001b[0m \u001b[0mamsgrad\u001b[0m\u001b[0;34m:\u001b[0m\u001b[0;34m\u001b[0m\u001b[0;34m\u001b[0m\u001b[0m\n",
      "\u001b[0;31mKeyboardInterrupt\u001b[0m: "
     ]
    }
   ],
   "source": [
    "batch_size = 100\n",
    "\n",
    "test_accuracy_history = []\n",
    "test_loss_history = []\n",
    "\n",
    "# X_test = X_test.to(device)\n",
    "# y_test = y_test.to(device)\n",
    "\n",
    "for epoch in range(10000):\n",
    "    order = np.random.permutation(len(X_train))\n",
    "    \n",
    "    for start_index in range(0, len(X_train), batch_size):\n",
    "        optimizer.zero_grad()\n",
    "        \n",
    "        batch_indexes = order[start_index:start_index+batch_size]\n",
    "        \n",
    "        X_batch = X_train[batch_indexes] #.to(device)\n",
    "        y_batch = y_train[batch_indexes] #.to(device)\n",
    "        \n",
    "        preds = mnist_net.forward(X_batch) \n",
    "        \n",
    "        loss_value = loss(preds, y_batch)\n",
    "        loss_value.backward()\n",
    "        \n",
    "        optimizer.step()\n",
    "\n",
    "    test_preds = mnist_net.forward(X_test)\n",
    "    test_loss_history.append(loss(test_preds, y_test))\n",
    "    \n",
    "    accuracy = (test_preds.argmax(dim=1) == y_test).float().mean()\n",
    "    test_accuracy_history.append(accuracy)\n",
    "    print(accuracy)"
   ]
  },
  {
   "cell_type": "code",
   "execution_count": 34,
   "metadata": {
    "colab": {},
    "colab_type": "code",
    "execution": {
     "iopub.execute_input": "2022-02-02T10:18:39.624497Z",
     "iopub.status.busy": "2022-02-02T10:18:39.624254Z",
     "iopub.status.idle": "2022-02-02T10:18:39.729880Z",
     "shell.execute_reply": "2022-02-02T10:18:39.729082Z",
     "shell.execute_reply.started": "2022-02-02T10:18:39.624472Z"
    },
    "id": "kLnumX3SpS3u",
    "tags": []
   },
   "outputs": [
    {
     "data": {
      "image/png": "[encoded data removed]",
      "text/plain": [
       "<Figure size 432x288 with 1 Axes>"
      ]
     },
     "metadata": {
      "needs_background": "light"
     },
     "output_type": "display_data"
    }
   ],
   "source": [
    "plt.plot(test_accuracy_history)\n",
    "plt.plot([i.detach().numpy() for i in test_loss_history]);"
   ]
  },
  {
   "cell_type": "code",
   "execution_count": null,
   "metadata": {},
   "outputs": [],
   "source": []
  },
  {
   "cell_type": "markdown",
   "metadata": {},
   "source": [
    "# seminar last tasks"
   ]
  },
  {
   "cell_type": "code",
   "execution_count": 46,
   "metadata": {
    "execution": {
     "iopub.execute_input": "2022-02-02T10:30:43.097672Z",
     "iopub.status.busy": "2022-02-02T10:30:43.097397Z",
     "iopub.status.idle": "2022-02-02T10:30:43.104307Z",
     "shell.execute_reply": "2022-02-02T10:30:43.103715Z",
     "shell.execute_reply.started": "2022-02-02T10:30:43.097647Z"
    },
    "tags": []
   },
   "outputs": [
    {
     "name": "stdout",
     "output_type": "stream",
     "text": [
      "tensor([[True, True, True]])\n"
     ]
    }
   ],
   "source": [
    "import torch\n",
    "\n",
    "# Сперва создадим тензор x:\n",
    "x = torch.tensor([[10., 20.]])\n",
    "\n",
    "# Оригинальный полносвязный слой с 2-мя входами и 3-мя нейронами (выходами):\n",
    "fc = torch.nn.Linear(2, 3)\n",
    "\n",
    "# Веса fc-слоя хранятся в fc.weight, а bias'ы соответственно в fc.bias\n",
    "# fc.weight и fc.bias по умолчанию инициализируются случайными числами\n",
    "\n",
    "# Давайте проставим свои значения в веса и bias'ы:\n",
    "w = torch.tensor([[11., 12.], [21., 22.], [31., 32]])\n",
    "fc.weight.data = w\n",
    "\n",
    "b = torch.tensor([[31., 32., 33.]])\n",
    "fc.bias.data = b\n",
    "\n",
    "# Получим выход fc-слоя:\n",
    "fc_out = fc(x)\n",
    "\n",
    "# Попробуем теперь получить аналогичные выходы с помощью матричного перемножения:\n",
    "# fc_out_alternative =  # x * w^T + b\n",
    "# fc_out_alternative =  x @ w.transpose(0,1) + b\n",
    "fc_out_alternative =  x @ w.T + b\n",
    "\n",
    "# Проверка осуществляется автоматически вызовом функции\n",
    "print(fc_out == fc_out_alternative)\n",
    "# (раскомментируйте, если решаете задачу локально)"
   ]
  },
  {
   "cell_type": "code",
   "execution_count": null,
   "metadata": {},
   "outputs": [],
   "source": []
  },
  {
   "cell_type": "code",
   "execution_count": 49,
   "metadata": {
    "execution": {
     "iopub.execute_input": "2022-02-02T10:33:33.161638Z",
     "iopub.status.busy": "2022-02-02T10:33:33.161368Z",
     "iopub.status.idle": "2022-02-02T10:33:33.173099Z",
     "shell.execute_reply": "2022-02-02T10:33:33.172535Z",
     "shell.execute_reply.started": "2022-02-02T10:33:33.161612Z"
    },
    "tags": []
   },
   "outputs": [
    {
     "name": "stdout",
     "output_type": "stream",
     "text": [
      "fc_weight_grad: tensor([[10., 20.],\n",
      "        [10., 20.],\n",
      "        [10., 20.]])\n",
      "our_weight_grad: tensor([[10., 20.],\n",
      "        [10., 20.],\n",
      "        [10., 20.]])\n",
      "fc_bias_grad: tensor([[1., 1., 1.]])\n",
      "out_bias_grad: tensor([[1., 1., 1.]])\n"
     ]
    }
   ],
   "source": [
    "import torch\n",
    "\n",
    "# Сперва создадим тензор x:\n",
    "x = torch.tensor([[10., 20.]])\n",
    "\n",
    "# Оригинальный полносвязный слой с 2-мя входами и 3-мя нейронами (выходами):\n",
    "fc = torch.nn.Linear(2, 3)\n",
    "\n",
    "# Веса fc-слоя хранятся в fc.weight, а bias'ы соответственно в fc.bias\n",
    "# fc.weight и fc.bias по умолчанию инициализируются случайными числами\n",
    "\n",
    "# Давайте проставим свои значения в веса и bias'ы:\n",
    "w = torch.tensor([[11., 12.], [21., 22.], [31., 32]])\n",
    "fc.weight.data = w\n",
    "\n",
    "b = torch.tensor([[31., 32., 33.]])\n",
    "fc.bias.data = b\n",
    "\n",
    "# Получим выход fc-слоя:\n",
    "fc_out = fc(x)\n",
    "# Просуммируем выход fc-слоя, чтобы получить скаляр:\n",
    "fc_out_summed = fc_out.sum()\n",
    "\n",
    "# Посчитаем градиенты формулы fc_out_summed:\n",
    "fc_out_summed.backward()\n",
    "weight_grad = fc.weight.grad\n",
    "bias_grad = fc.bias.grad\n",
    "\n",
    "# Ok, теперь воспроизведем вычисления выше но без fc-слоя:\n",
    "# Проставим, что у \"w\" и \"b\" нужно вычислять градиенты (для fc-слоя это произошло автоматически):\n",
    "w.requires_grad_(True)\n",
    "b.requires_grad_(True)\n",
    "\n",
    "# Получим выход нашей формулы:\n",
    "our_formula = (x @ w.T + b).sum() # SUM{x * w^T + b}\n",
    "\n",
    "# Сделайте backward для нашей формулы:\n",
    "our_formula.backward()\n",
    "\n",
    "# Проверка осуществляется автоматически, вызовом функций:\n",
    "# print('fc_weight_grad:', weight_grad)\n",
    "# print('our_weight_grad:', w.grad)\n",
    "# print('fc_bias_grad:', bias_grad)\n",
    "# print('out_bias_grad:', b.grad)\n",
    "# (раскомментируйте, если работаете над задачей локально)"
   ]
  },
  {
   "cell_type": "code",
   "execution_count": null,
   "metadata": {},
   "outputs": [],
   "source": []
  }
 ],
 "metadata": {
  "accelerator": "GPU",
  "colab": {
   "collapsed_sections": [],
   "name": "Lesson 5 Digits Recognition Video.ipynb",
   "provenance": [],
   "version": "0.3.2"
  },
  "kernelspec": {
   "display_name": "rl_learn_v2",
   "language": "python",
   "name": "rl_learn_v2"
  },
  "language_info": {
   "codemirror_mode": {
    "name": "ipython",
    "version": 3
   },
   "file_extension": ".py",
   "mimetype": "text/x-python",
   "name": "python",
   "nbconvert_exporter": "python",
   "pygments_lexer": "ipython3",
   "version": "3.9.7"
  }
 },
 "nbformat": 4,
 "nbformat_minor": 4
}

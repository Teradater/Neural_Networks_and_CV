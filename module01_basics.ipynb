{
 "cells": [
  {
   "cell_type": "markdown",
   "metadata": {
    "colab": {
     "base_uri": "https://localhost:8080/",
     "height": 949
    },
    "colab_type": "code",
    "executionInfo": {
     "elapsed": 1704,
     "status": "error",
     "timestamp": 1553690684584,
     "user": {
      "displayName": "Igor Slinko",
      "photoUrl": "https://lh4.googleusercontent.com/-KYuH_A0wMqY/AAAAAAAAAAI/AAAAAAAAA70/CFLH5ufF32M/s64/photo.jpg",
      "userId": "00864276345820379450"
     },
     "user_tz": -180
    },
    "id": "HiASrOWHA930",
    "outputId": "9052c75e-70db-47b6-98ad-d76d22fcb18c"
   },
   "source": [
    "install pytorch as shown on the official site: https://pytorch.org"
   ]
  },
  {
   "cell_type": "code",
   "execution_count": 1,
   "metadata": {
    "colab": {},
    "colab_type": "code",
    "execution": {
     "iopub.execute_input": "2022-01-28T20:05:03.603203Z",
     "iopub.status.busy": "2022-01-28T20:05:03.602900Z",
     "iopub.status.idle": "2022-01-28T20:05:04.446191Z",
     "shell.execute_reply": "2022-01-28T20:05:04.445445Z",
     "shell.execute_reply.started": "2022-01-28T20:05:03.603133Z"
    },
    "id": "om5sXzJcBC3L"
   },
   "outputs": [],
   "source": [
    "import torch"
   ]
  },
  {
   "cell_type": "code",
   "execution_count": 2,
   "metadata": {
    "colab": {
     "base_uri": "https://localhost:8080/",
     "height": 68
    },
    "colab_type": "code",
    "execution": {
     "iopub.execute_input": "2022-01-28T20:05:06.197157Z",
     "iopub.status.busy": "2022-01-28T20:05:06.196866Z",
     "iopub.status.idle": "2022-01-28T20:05:06.207042Z",
     "shell.execute_reply": "2022-01-28T20:05:06.206521Z",
     "shell.execute_reply.started": "2022-01-28T20:05:06.197124Z"
    },
    "executionInfo": {
     "elapsed": 8664,
     "status": "ok",
     "timestamp": 1553687458142,
     "user": {
      "displayName": "Igor Slinko",
      "photoUrl": "https://lh4.googleusercontent.com/-KYuH_A0wMqY/AAAAAAAAAAI/AAAAAAAAA70/CFLH5ufF32M/s64/photo.jpg",
      "userId": "00864276345820379450"
     },
     "user_tz": -180
    },
    "id": "fiz44QB73Ze6",
    "outputId": "e636c3ab-e363-42c8-fdfc-e8f9b3cb2dc3"
   },
   "outputs": [
    {
     "data": {
      "text/plain": [
       "tensor([[0., 0., 0., 0.],\n",
       "        [0., 0., 0., 0.],\n",
       "        [0., 0., 0., 0.]])"
      ]
     },
     "execution_count": 2,
     "metadata": {},
     "output_type": "execute_result"
    }
   ],
   "source": [
    "torch.zeros([3, 4])"
   ]
  },
  {
   "cell_type": "code",
   "execution_count": 3,
   "metadata": {
    "colab": {
     "base_uri": "https://localhost:8080/",
     "height": 255
    },
    "colab_type": "code",
    "execution": {
     "iopub.execute_input": "2022-01-28T20:07:10.638304Z",
     "iopub.status.busy": "2022-01-28T20:07:10.638044Z",
     "iopub.status.idle": "2022-01-28T20:07:10.643892Z",
     "shell.execute_reply": "2022-01-28T20:07:10.643271Z",
     "shell.execute_reply.started": "2022-01-28T20:07:10.638277Z"
    },
    "executionInfo": {
     "elapsed": 8646,
     "status": "ok",
     "timestamp": 1553687458144,
     "user": {
      "displayName": "Igor Slinko",
      "photoUrl": "https://lh4.googleusercontent.com/-KYuH_A0wMqY/AAAAAAAAAAI/AAAAAAAAA70/CFLH5ufF32M/s64/photo.jpg",
      "userId": "00864276345820379450"
     },
     "user_tz": -180
    },
    "id": "j_cGJRUI3eTT",
    "outputId": "69b649d7-8c8d-4111-cfd5-57d3682eb723"
   },
   "outputs": [
    {
     "data": {
      "text/plain": [
       "tensor([[[1., 1.],\n",
       "         [1., 1.],\n",
       "         [1., 1.],\n",
       "         [1., 1.]],\n",
       "\n",
       "        [[1., 1.],\n",
       "         [1., 1.],\n",
       "         [1., 1.],\n",
       "         [1., 1.]],\n",
       "\n",
       "        [[1., 1.],\n",
       "         [1., 1.],\n",
       "         [1., 1.],\n",
       "         [1., 1.]]])"
      ]
     },
     "execution_count": 3,
     "metadata": {},
     "output_type": "execute_result"
    }
   ],
   "source": [
    "torch.ones([3, 4, 2])"
   ]
  },
  {
   "cell_type": "code",
   "execution_count": 4,
   "metadata": {
    "colab": {
     "base_uri": "https://localhost:8080/",
     "height": 68
    },
    "colab_type": "code",
    "execution": {
     "iopub.execute_input": "2022-01-28T20:07:21.158722Z",
     "iopub.status.busy": "2022-01-28T20:07:21.158414Z",
     "iopub.status.idle": "2022-01-28T20:07:21.164247Z",
     "shell.execute_reply": "2022-01-28T20:07:21.163702Z",
     "shell.execute_reply.started": "2022-01-28T20:07:21.158692Z"
    },
    "executionInfo": {
     "elapsed": 8614,
     "status": "ok",
     "timestamp": 1553687458146,
     "user": {
      "displayName": "Igor Slinko",
      "photoUrl": "https://lh4.googleusercontent.com/-KYuH_A0wMqY/AAAAAAAAAAI/AAAAAAAAA70/CFLH5ufF32M/s64/photo.jpg",
      "userId": "00864276345820379450"
     },
     "user_tz": -180
    },
    "id": "66pYqNDB3fgW",
    "outputId": "65582665-f61a-4dcd-b1b5-da9803d17996"
   },
   "outputs": [
    {
     "data": {
      "text/plain": [
       "tensor([[ 1.,  2.,  3.,  4.],\n",
       "        [ 5.,  6.,  7.,  8.],\n",
       "        [ 9., 10., 11., 12.]])"
      ]
     },
     "execution_count": 4,
     "metadata": {},
     "output_type": "execute_result"
    }
   ],
   "source": [
    "torch.Tensor([[1,  2,  3,  4],\n",
    "              [5,  6,  7,  8],\n",
    "              [9, 10, 11, 12]])"
   ]
  },
  {
   "cell_type": "code",
   "execution_count": 5,
   "metadata": {
    "colab": {},
    "colab_type": "code",
    "execution": {
     "iopub.execute_input": "2022-01-28T20:07:24.417895Z",
     "iopub.status.busy": "2022-01-28T20:07:24.417602Z",
     "iopub.status.idle": "2022-01-28T20:07:24.421740Z",
     "shell.execute_reply": "2022-01-28T20:07:24.421063Z",
     "shell.execute_reply.started": "2022-01-28T20:07:24.417862Z"
    },
    "id": "cuv_uYVK3nJi"
   },
   "outputs": [],
   "source": [
    "x = torch.Tensor([[1,  2,  3,  4],\n",
    "                  [5,  6,  7,  8],\n",
    "                  [9, 10, 11, 12]])"
   ]
  },
  {
   "cell_type": "code",
   "execution_count": 6,
   "metadata": {
    "colab": {
     "base_uri": "https://localhost:8080/",
     "height": 34
    },
    "colab_type": "code",
    "execution": {
     "iopub.execute_input": "2022-01-28T20:07:26.966974Z",
     "iopub.status.busy": "2022-01-28T20:07:26.966675Z",
     "iopub.status.idle": "2022-01-28T20:07:26.971397Z",
     "shell.execute_reply": "2022-01-28T20:07:26.970806Z",
     "shell.execute_reply.started": "2022-01-28T20:07:26.966941Z"
    },
    "executionInfo": {
     "elapsed": 8591,
     "status": "ok",
     "timestamp": 1553687458151,
     "user": {
      "displayName": "Igor Slinko",
      "photoUrl": "https://lh4.googleusercontent.com/-KYuH_A0wMqY/AAAAAAAAAAI/AAAAAAAAA70/CFLH5ufF32M/s64/photo.jpg",
      "userId": "00864276345820379450"
     },
     "user_tz": -180
    },
    "id": "vMcUsd3X3vg-",
    "outputId": "487e2919-0875-4df0-ab62-0d1695710a55"
   },
   "outputs": [
    {
     "data": {
      "text/plain": [
       "torch.Size([3, 4])"
      ]
     },
     "execution_count": 6,
     "metadata": {},
     "output_type": "execute_result"
    }
   ],
   "source": [
    "x.size()"
   ]
  },
  {
   "cell_type": "code",
   "execution_count": 7,
   "metadata": {
    "colab": {
     "base_uri": "https://localhost:8080/",
     "height": 34
    },
    "colab_type": "code",
    "execution": {
     "iopub.execute_input": "2022-01-28T20:07:27.593878Z",
     "iopub.status.busy": "2022-01-28T20:07:27.593619Z",
     "iopub.status.idle": "2022-01-28T20:07:27.598325Z",
     "shell.execute_reply": "2022-01-28T20:07:27.597699Z",
     "shell.execute_reply.started": "2022-01-28T20:07:27.593850Z"
    },
    "executionInfo": {
     "elapsed": 8570,
     "status": "ok",
     "timestamp": 1553687458152,
     "user": {
      "displayName": "Igor Slinko",
      "photoUrl": "https://lh4.googleusercontent.com/-KYuH_A0wMqY/AAAAAAAAAAI/AAAAAAAAA70/CFLH5ufF32M/s64/photo.jpg",
      "userId": "00864276345820379450"
     },
     "user_tz": -180
    },
    "id": "nN6e9os44dK-",
    "outputId": "d0bfebe2-c229-4640-c991-9b766ea51a51"
   },
   "outputs": [
    {
     "data": {
      "text/plain": [
       "torch.Size([3, 4])"
      ]
     },
     "execution_count": 7,
     "metadata": {},
     "output_type": "execute_result"
    }
   ],
   "source": [
    "x.shape"
   ]
  },
  {
   "cell_type": "code",
   "execution_count": 8,
   "metadata": {
    "colab": {
     "base_uri": "https://localhost:8080/",
     "height": 34
    },
    "colab_type": "code",
    "execution": {
     "iopub.execute_input": "2022-01-28T20:07:29.566678Z",
     "iopub.status.busy": "2022-01-28T20:07:29.566388Z",
     "iopub.status.idle": "2022-01-28T20:07:29.571777Z",
     "shell.execute_reply": "2022-01-28T20:07:29.571165Z",
     "shell.execute_reply.started": "2022-01-28T20:07:29.566647Z"
    },
    "executionInfo": {
     "elapsed": 8567,
     "status": "ok",
     "timestamp": 1553687458154,
     "user": {
      "displayName": "Igor Slinko",
      "photoUrl": "https://lh4.googleusercontent.com/-KYuH_A0wMqY/AAAAAAAAAAI/AAAAAAAAA70/CFLH5ufF32M/s64/photo.jpg",
      "userId": "00864276345820379450"
     },
     "user_tz": -180
    },
    "id": "3RRI7chI4Ylr",
    "outputId": "a0428536-a285-4921-94ab-ac35973e86e8"
   },
   "outputs": [
    {
     "data": {
      "text/plain": [
       "tensor([1., 2., 3., 4.])"
      ]
     },
     "execution_count": 8,
     "metadata": {},
     "output_type": "execute_result"
    }
   ],
   "source": [
    "x[0]"
   ]
  },
  {
   "cell_type": "code",
   "execution_count": 9,
   "metadata": {
    "colab": {
     "base_uri": "https://localhost:8080/",
     "height": 34
    },
    "colab_type": "code",
    "execution": {
     "iopub.execute_input": "2022-01-28T20:07:32.528235Z",
     "iopub.status.busy": "2022-01-28T20:07:32.528015Z",
     "iopub.status.idle": "2022-01-28T20:07:32.532373Z",
     "shell.execute_reply": "2022-01-28T20:07:32.531863Z",
     "shell.execute_reply.started": "2022-01-28T20:07:32.528212Z"
    },
    "executionInfo": {
     "elapsed": 8568,
     "status": "ok",
     "timestamp": 1553687458156,
     "user": {
      "displayName": "Igor Slinko",
      "photoUrl": "https://lh4.googleusercontent.com/-KYuH_A0wMqY/AAAAAAAAAAI/AAAAAAAAA70/CFLH5ufF32M/s64/photo.jpg",
      "userId": "00864276345820379450"
     },
     "user_tz": -180
    },
    "id": "2Nlpkodx5q9k",
    "outputId": "292e8e2d-d31d-4ab3-d1de-9b6079dd48e1"
   },
   "outputs": [
    {
     "data": {
      "text/plain": [
       "tensor([5., 6., 7., 8.])"
      ]
     },
     "execution_count": 9,
     "metadata": {},
     "output_type": "execute_result"
    }
   ],
   "source": [
    "x[1]"
   ]
  },
  {
   "cell_type": "code",
   "execution_count": 10,
   "metadata": {
    "colab": {
     "base_uri": "https://localhost:8080/",
     "height": 34
    },
    "colab_type": "code",
    "execution": {
     "iopub.execute_input": "2022-01-28T20:07:36.216791Z",
     "iopub.status.busy": "2022-01-28T20:07:36.216605Z",
     "iopub.status.idle": "2022-01-28T20:07:36.222073Z",
     "shell.execute_reply": "2022-01-28T20:07:36.221536Z",
     "shell.execute_reply.started": "2022-01-28T20:07:36.216772Z"
    },
    "executionInfo": {
     "elapsed": 8568,
     "status": "ok",
     "timestamp": 1553687458157,
     "user": {
      "displayName": "Igor Slinko",
      "photoUrl": "https://lh4.googleusercontent.com/-KYuH_A0wMqY/AAAAAAAAAAI/AAAAAAAAA70/CFLH5ufF32M/s64/photo.jpg",
      "userId": "00864276345820379450"
     },
     "user_tz": -180
    },
    "id": "jBL5d47Z5sAk",
    "outputId": "70c4e7d2-59b3-4b11-d69e-5ddc83812597"
   },
   "outputs": [
    {
     "data": {
      "text/plain": [
       "tensor(1.)"
      ]
     },
     "execution_count": 10,
     "metadata": {},
     "output_type": "execute_result"
    }
   ],
   "source": [
    "x[0, 0]"
   ]
  },
  {
   "cell_type": "code",
   "execution_count": 11,
   "metadata": {
    "colab": {
     "base_uri": "https://localhost:8080/",
     "height": 34
    },
    "colab_type": "code",
    "execution": {
     "iopub.execute_input": "2022-01-28T20:07:38.747129Z",
     "iopub.status.busy": "2022-01-28T20:07:38.746835Z",
     "iopub.status.idle": "2022-01-28T20:07:38.752226Z",
     "shell.execute_reply": "2022-01-28T20:07:38.751653Z",
     "shell.execute_reply.started": "2022-01-28T20:07:38.747097Z"
    },
    "executionInfo": {
     "elapsed": 8568,
     "status": "ok",
     "timestamp": 1553687458158,
     "user": {
      "displayName": "Igor Slinko",
      "photoUrl": "https://lh4.googleusercontent.com/-KYuH_A0wMqY/AAAAAAAAAAI/AAAAAAAAA70/CFLH5ufF32M/s64/photo.jpg",
      "userId": "00864276345820379450"
     },
     "user_tz": -180
    },
    "id": "DQjQMUzk4MeM",
    "outputId": "acfcaae6-370f-4f5b-f23f-668c4777ad3b"
   },
   "outputs": [
    {
     "data": {
      "text/plain": [
       "tensor([1., 5., 9.])"
      ]
     },
     "execution_count": 11,
     "metadata": {},
     "output_type": "execute_result"
    }
   ],
   "source": [
    "x[:, 0]"
   ]
  },
  {
   "cell_type": "code",
   "execution_count": 12,
   "metadata": {
    "colab": {
     "base_uri": "https://localhost:8080/",
     "height": 68
    },
    "colab_type": "code",
    "execution": {
     "iopub.execute_input": "2022-01-28T20:07:42.502595Z",
     "iopub.status.busy": "2022-01-28T20:07:42.502335Z",
     "iopub.status.idle": "2022-01-28T20:07:42.507540Z",
     "shell.execute_reply": "2022-01-28T20:07:42.506972Z",
     "shell.execute_reply.started": "2022-01-28T20:07:42.502568Z"
    },
    "executionInfo": {
     "elapsed": 8567,
     "status": "ok",
     "timestamp": 1553687458159,
     "user": {
      "displayName": "Igor Slinko",
      "photoUrl": "https://lh4.googleusercontent.com/-KYuH_A0wMqY/AAAAAAAAAAI/AAAAAAAAA70/CFLH5ufF32M/s64/photo.jpg",
      "userId": "00864276345820379450"
     },
     "user_tz": -180
    },
    "id": "byVTqgRs5FhK",
    "outputId": "a55cd10e-dcf2-4257-e889-80b0a2acff24"
   },
   "outputs": [
    {
     "data": {
      "text/plain": [
       "tensor([[11., 12., 13., 14.],\n",
       "        [15., 16., 17., 18.],\n",
       "        [19., 20., 21., 22.]])"
      ]
     },
     "execution_count": 12,
     "metadata": {},
     "output_type": "execute_result"
    }
   ],
   "source": [
    "x + 10"
   ]
  },
  {
   "cell_type": "code",
   "execution_count": 13,
   "metadata": {
    "colab": {
     "base_uri": "https://localhost:8080/",
     "height": 68
    },
    "colab_type": "code",
    "execution": {
     "iopub.execute_input": "2022-01-28T20:07:44.384621Z",
     "iopub.status.busy": "2022-01-28T20:07:44.384332Z",
     "iopub.status.idle": "2022-01-28T20:07:44.389610Z",
     "shell.execute_reply": "2022-01-28T20:07:44.388977Z",
     "shell.execute_reply.started": "2022-01-28T20:07:44.384588Z"
    },
    "executionInfo": {
     "elapsed": 8567,
     "status": "ok",
     "timestamp": 1553687458160,
     "user": {
      "displayName": "Igor Slinko",
      "photoUrl": "https://lh4.googleusercontent.com/-KYuH_A0wMqY/AAAAAAAAAAI/AAAAAAAAA70/CFLH5ufF32M/s64/photo.jpg",
      "userId": "00864276345820379450"
     },
     "user_tz": -180
    },
    "id": "voNgwBHgKSM8",
    "outputId": "3251c663-c1af-44b7-e9c3-7e5ff1e1f1ec"
   },
   "outputs": [
    {
     "data": {
      "text/plain": [
       "tensor([[  1.,   4.,   9.,  16.],\n",
       "        [ 25.,  36.,  49.,  64.],\n",
       "        [ 81., 100., 121., 144.]])"
      ]
     },
     "execution_count": 13,
     "metadata": {},
     "output_type": "execute_result"
    }
   ],
   "source": [
    "x ** 2"
   ]
  },
  {
   "cell_type": "code",
   "execution_count": 14,
   "metadata": {
    "colab": {},
    "colab_type": "code",
    "execution": {
     "iopub.execute_input": "2022-01-28T20:07:49.043727Z",
     "iopub.status.busy": "2022-01-28T20:07:49.043432Z",
     "iopub.status.idle": "2022-01-28T20:07:49.047597Z",
     "shell.execute_reply": "2022-01-28T20:07:49.046860Z",
     "shell.execute_reply.started": "2022-01-28T20:07:49.043695Z"
    },
    "id": "mysY9wcSKX3_"
   },
   "outputs": [],
   "source": [
    "y = torch.Tensor([[12, 11, 10, 9],\n",
    "                  [8, 7, 6, 5],\n",
    "                  [4, 3, 2, 1]])"
   ]
  },
  {
   "cell_type": "code",
   "execution_count": 15,
   "metadata": {
    "colab": {
     "base_uri": "https://localhost:8080/",
     "height": 68
    },
    "colab_type": "code",
    "execution": {
     "iopub.execute_input": "2022-01-28T20:07:51.305041Z",
     "iopub.status.busy": "2022-01-28T20:07:51.304757Z",
     "iopub.status.idle": "2022-01-28T20:07:51.310110Z",
     "shell.execute_reply": "2022-01-28T20:07:51.309482Z",
     "shell.execute_reply.started": "2022-01-28T20:07:51.305013Z"
    },
    "executionInfo": {
     "elapsed": 9289,
     "status": "ok",
     "timestamp": 1553687458885,
     "user": {
      "displayName": "Igor Slinko",
      "photoUrl": "https://lh4.googleusercontent.com/-KYuH_A0wMqY/AAAAAAAAAAI/AAAAAAAAA70/CFLH5ufF32M/s64/photo.jpg",
      "userId": "00864276345820379450"
     },
     "user_tz": -180
    },
    "id": "hpaaLUopK5mK",
    "outputId": "11691b91-26c0-44ec-c7f4-3c55bc48bc1a"
   },
   "outputs": [
    {
     "data": {
      "text/plain": [
       "tensor([[13., 13., 13., 13.],\n",
       "        [13., 13., 13., 13.],\n",
       "        [13., 13., 13., 13.]])"
      ]
     },
     "execution_count": 15,
     "metadata": {},
     "output_type": "execute_result"
    }
   ],
   "source": [
    "x + y"
   ]
  },
  {
   "cell_type": "code",
   "execution_count": 16,
   "metadata": {
    "colab": {
     "base_uri": "https://localhost:8080/",
     "height": 68
    },
    "colab_type": "code",
    "execution": {
     "iopub.execute_input": "2022-01-28T20:07:55.186254Z",
     "iopub.status.busy": "2022-01-28T20:07:55.185957Z",
     "iopub.status.idle": "2022-01-28T20:07:55.191141Z",
     "shell.execute_reply": "2022-01-28T20:07:55.190535Z",
     "shell.execute_reply.started": "2022-01-28T20:07:55.186226Z"
    },
    "executionInfo": {
     "elapsed": 9290,
     "status": "ok",
     "timestamp": 1553687458887,
     "user": {
      "displayName": "Igor Slinko",
      "photoUrl": "https://lh4.googleusercontent.com/-KYuH_A0wMqY/AAAAAAAAAAI/AAAAAAAAA70/CFLH5ufF32M/s64/photo.jpg",
      "userId": "00864276345820379450"
     },
     "user_tz": -180
    },
    "id": "aUw1jh6fK66y",
    "outputId": "1b32ded6-521a-4a3f-f52f-a8a64581aa34"
   },
   "outputs": [
    {
     "data": {
      "text/plain": [
       "tensor([[12., 22., 30., 36.],\n",
       "        [40., 42., 42., 40.],\n",
       "        [36., 30., 22., 12.]])"
      ]
     },
     "execution_count": 16,
     "metadata": {},
     "output_type": "execute_result"
    }
   ],
   "source": [
    "x * y"
   ]
  },
  {
   "cell_type": "code",
   "execution_count": 17,
   "metadata": {
    "colab": {
     "base_uri": "https://localhost:8080/",
     "height": 68
    },
    "colab_type": "code",
    "execution": {
     "iopub.execute_input": "2022-01-28T20:08:02.887232Z",
     "iopub.status.busy": "2022-01-28T20:08:02.886940Z",
     "iopub.status.idle": "2022-01-28T20:08:02.892167Z",
     "shell.execute_reply": "2022-01-28T20:08:02.891486Z",
     "shell.execute_reply.started": "2022-01-28T20:08:02.887199Z"
    },
    "executionInfo": {
     "elapsed": 9290,
     "status": "ok",
     "timestamp": 1553687458888,
     "user": {
      "displayName": "Igor Slinko",
      "photoUrl": "https://lh4.googleusercontent.com/-KYuH_A0wMqY/AAAAAAAAAAI/AAAAAAAAA70/CFLH5ufF32M/s64/photo.jpg",
      "userId": "00864276345820379450"
     },
     "user_tz": -180
    },
    "id": "aCaj6e65K8Vi",
    "outputId": "e4fa966c-3bbc-4a0b-e1af-b5e4650a5573"
   },
   "outputs": [
    {
     "data": {
      "text/plain": [
       "tensor([[ 0.0833,  0.1818,  0.3000,  0.4444],\n",
       "        [ 0.6250,  0.8571,  1.1667,  1.6000],\n",
       "        [ 2.2500,  3.3333,  5.5000, 12.0000]])"
      ]
     },
     "execution_count": 17,
     "metadata": {},
     "output_type": "execute_result"
    }
   ],
   "source": [
    "x / y"
   ]
  },
  {
   "cell_type": "code",
   "execution_count": 18,
   "metadata": {
    "colab": {
     "base_uri": "https://localhost:8080/",
     "height": 68
    },
    "colab_type": "code",
    "execution": {
     "iopub.execute_input": "2022-01-28T20:08:05.496001Z",
     "iopub.status.busy": "2022-01-28T20:08:05.495743Z",
     "iopub.status.idle": "2022-01-28T20:08:05.500729Z",
     "shell.execute_reply": "2022-01-28T20:08:05.500169Z",
     "shell.execute_reply.started": "2022-01-28T20:08:05.495973Z"
    },
    "executionInfo": {
     "elapsed": 9289,
     "status": "ok",
     "timestamp": 1553687458889,
     "user": {
      "displayName": "Igor Slinko",
      "photoUrl": "https://lh4.googleusercontent.com/-KYuH_A0wMqY/AAAAAAAAAAI/AAAAAAAAA70/CFLH5ufF32M/s64/photo.jpg",
      "userId": "00864276345820379450"
     },
     "user_tz": -180
    },
    "id": "gsbIAdGEK9ZZ",
    "outputId": "95eb6e6f-9055-4213-edbd-e8b70a9b059f"
   },
   "outputs": [
    {
     "data": {
      "text/plain": [
       "tensor([[1., 2., 3., 4.],\n",
       "        [5., 6., 1., 3.],\n",
       "        [1., 1., 1., 0.]])"
      ]
     },
     "execution_count": 18,
     "metadata": {},
     "output_type": "execute_result"
    }
   ],
   "source": [
    "x % y"
   ]
  },
  {
   "cell_type": "code",
   "execution_count": 19,
   "metadata": {
    "colab": {
     "base_uri": "https://localhost:8080/",
     "height": 68
    },
    "colab_type": "code",
    "execution": {
     "iopub.execute_input": "2022-01-28T20:12:24.521102Z",
     "iopub.status.busy": "2022-01-28T20:12:24.520867Z",
     "iopub.status.idle": "2022-01-28T20:12:24.525323Z",
     "shell.execute_reply": "2022-01-28T20:12:24.524844Z",
     "shell.execute_reply.started": "2022-01-28T20:12:24.521079Z"
    },
    "executionInfo": {
     "elapsed": 9289,
     "status": "ok",
     "timestamp": 1553687458890,
     "user": {
      "displayName": "Igor Slinko",
      "photoUrl": "https://lh4.googleusercontent.com/-KYuH_A0wMqY/AAAAAAAAAAI/AAAAAAAAA70/CFLH5ufF32M/s64/photo.jpg",
      "userId": "00864276345820379450"
     },
     "user_tz": -180
    },
    "id": "2nyUclPkLDLg",
    "outputId": "c9413c9f-5e78-474e-a381-7d85a7e8efb2"
   },
   "outputs": [
    {
     "data": {
      "text/plain": [
       "tensor([[2.7183e+00, 7.3891e+00, 2.0086e+01, 5.4598e+01],\n",
       "        [1.4841e+02, 4.0343e+02, 1.0966e+03, 2.9810e+03],\n",
       "        [8.1031e+03, 2.2026e+04, 5.9874e+04, 1.6275e+05]])"
      ]
     },
     "execution_count": 19,
     "metadata": {},
     "output_type": "execute_result"
    }
   ],
   "source": [
    "torch.exp(x)"
   ]
  },
  {
   "cell_type": "code",
   "execution_count": 20,
   "metadata": {
    "colab": {
     "base_uri": "https://localhost:8080/",
     "height": 68
    },
    "colab_type": "code",
    "execution": {
     "iopub.execute_input": "2022-01-28T20:12:27.353066Z",
     "iopub.status.busy": "2022-01-28T20:12:27.352776Z",
     "iopub.status.idle": "2022-01-28T20:12:27.358024Z",
     "shell.execute_reply": "2022-01-28T20:12:27.357442Z",
     "shell.execute_reply.started": "2022-01-28T20:12:27.353034Z"
    },
    "executionInfo": {
     "elapsed": 9289,
     "status": "ok",
     "timestamp": 1553687458891,
     "user": {
      "displayName": "Igor Slinko",
      "photoUrl": "https://lh4.googleusercontent.com/-KYuH_A0wMqY/AAAAAAAAAAI/AAAAAAAAA70/CFLH5ufF32M/s64/photo.jpg",
      "userId": "00864276345820379450"
     },
     "user_tz": -180
    },
    "id": "VYQEuS8pLT8I",
    "outputId": "f6c3345e-4a01-44d3-8bbc-5876affa724b"
   },
   "outputs": [
    {
     "data": {
      "text/plain": [
       "tensor([[0.0000, 0.6931, 1.0986, 1.3863],\n",
       "        [1.6094, 1.7918, 1.9459, 2.0794],\n",
       "        [2.1972, 2.3026, 2.3979, 2.4849]])"
      ]
     },
     "execution_count": 20,
     "metadata": {},
     "output_type": "execute_result"
    }
   ],
   "source": [
    "torch.log(x)"
   ]
  },
  {
   "cell_type": "code",
   "execution_count": 21,
   "metadata": {
    "colab": {
     "base_uri": "https://localhost:8080/",
     "height": 68
    },
    "colab_type": "code",
    "execution": {
     "iopub.execute_input": "2022-01-28T20:12:32.289307Z",
     "iopub.status.busy": "2022-01-28T20:12:32.289010Z",
     "iopub.status.idle": "2022-01-28T20:12:32.294399Z",
     "shell.execute_reply": "2022-01-28T20:12:32.293807Z",
     "shell.execute_reply.started": "2022-01-28T20:12:32.289272Z"
    },
    "executionInfo": {
     "elapsed": 9288,
     "status": "ok",
     "timestamp": 1553687458892,
     "user": {
      "displayName": "Igor Slinko",
      "photoUrl": "https://lh4.googleusercontent.com/-KYuH_A0wMqY/AAAAAAAAAAI/AAAAAAAAA70/CFLH5ufF32M/s64/photo.jpg",
      "userId": "00864276345820379450"
     },
     "user_tz": -180
    },
    "id": "SPZjB3JWLWX-",
    "outputId": "f9a723b7-db70-42a8-e592-4ca00e2af86f"
   },
   "outputs": [
    {
     "data": {
      "text/plain": [
       "tensor([[ 0.8415,  0.9093,  0.1411, -0.7568],\n",
       "        [-0.9589, -0.2794,  0.6570,  0.9894],\n",
       "        [ 0.4121, -0.5440, -1.0000, -0.5366]])"
      ]
     },
     "execution_count": 21,
     "metadata": {},
     "output_type": "execute_result"
    }
   ],
   "source": [
    "torch.sin(x)"
   ]
  },
  {
   "cell_type": "code",
   "execution_count": 22,
   "metadata": {
    "colab": {
     "base_uri": "https://localhost:8080/",
     "height": 68
    },
    "colab_type": "code",
    "execution": {
     "iopub.execute_input": "2022-01-28T20:12:34.536824Z",
     "iopub.status.busy": "2022-01-28T20:12:34.536528Z",
     "iopub.status.idle": "2022-01-28T20:12:34.541780Z",
     "shell.execute_reply": "2022-01-28T20:12:34.541249Z",
     "shell.execute_reply.started": "2022-01-28T20:12:34.536792Z"
    },
    "executionInfo": {
     "elapsed": 9288,
     "status": "ok",
     "timestamp": 1553687458893,
     "user": {
      "displayName": "Igor Slinko",
      "photoUrl": "https://lh4.googleusercontent.com/-KYuH_A0wMqY/AAAAAAAAAAI/AAAAAAAAA70/CFLH5ufF32M/s64/photo.jpg",
      "userId": "00864276345820379450"
     },
     "user_tz": -180
    },
    "id": "0BYJe2WALg-t",
    "outputId": "623d3433-a258-4f3e-f480-8df7e604b4a0"
   },
   "outputs": [
    {
     "data": {
      "text/plain": [
       "tensor([[False, False, False,  True],\n",
       "        [ True,  True,  True,  True],\n",
       "        [ True,  True,  True,  True]])"
      ]
     },
     "execution_count": 22,
     "metadata": {},
     "output_type": "execute_result"
    }
   ],
   "source": [
    "x > 3"
   ]
  },
  {
   "cell_type": "code",
   "execution_count": 23,
   "metadata": {
    "colab": {},
    "colab_type": "code",
    "execution": {
     "iopub.execute_input": "2022-01-28T20:12:37.256481Z",
     "iopub.status.busy": "2022-01-28T20:12:37.256253Z",
     "iopub.status.idle": "2022-01-28T20:12:37.259440Z",
     "shell.execute_reply": "2022-01-28T20:12:37.258757Z",
     "shell.execute_reply.started": "2022-01-28T20:12:37.256456Z"
    },
    "id": "-wFJjbhJLjYs"
   },
   "outputs": [],
   "source": [
    "mask = x > 3"
   ]
  },
  {
   "cell_type": "code",
   "execution_count": 24,
   "metadata": {
    "colab": {
     "base_uri": "https://localhost:8080/",
     "height": 34
    },
    "colab_type": "code",
    "execution": {
     "iopub.execute_input": "2022-01-28T20:12:38.544887Z",
     "iopub.status.busy": "2022-01-28T20:12:38.544597Z",
     "iopub.status.idle": "2022-01-28T20:12:38.550091Z",
     "shell.execute_reply": "2022-01-28T20:12:38.549479Z",
     "shell.execute_reply.started": "2022-01-28T20:12:38.544856Z"
    },
    "executionInfo": {
     "elapsed": 8868,
     "status": "ok",
     "timestamp": 1553687458897,
     "user": {
      "displayName": "Igor Slinko",
      "photoUrl": "https://lh4.googleusercontent.com/-KYuH_A0wMqY/AAAAAAAAAAI/AAAAAAAAA70/CFLH5ufF32M/s64/photo.jpg",
      "userId": "00864276345820379450"
     },
     "user_tz": -180
    },
    "id": "goCMRtShLpDv",
    "outputId": "de64d27c-6b89-4397-cbc4-06fa53495490"
   },
   "outputs": [
    {
     "data": {
      "text/plain": [
       "tensor([ 4.,  5.,  6.,  7.,  8.,  9., 10., 11., 12.])"
      ]
     },
     "execution_count": 24,
     "metadata": {},
     "output_type": "execute_result"
    }
   ],
   "source": [
    "x[mask]"
   ]
  },
  {
   "cell_type": "code",
   "execution_count": 25,
   "metadata": {
    "colab": {
     "base_uri": "https://localhost:8080/",
     "height": 34
    },
    "colab_type": "code",
    "execution": {
     "iopub.execute_input": "2022-01-28T20:12:39.098525Z",
     "iopub.status.busy": "2022-01-28T20:12:39.098272Z",
     "iopub.status.idle": "2022-01-28T20:12:39.103670Z",
     "shell.execute_reply": "2022-01-28T20:12:39.103071Z",
     "shell.execute_reply.started": "2022-01-28T20:12:39.098498Z"
    },
    "executionInfo": {
     "elapsed": 8522,
     "status": "ok",
     "timestamp": 1553687458899,
     "user": {
      "displayName": "Igor Slinko",
      "photoUrl": "https://lh4.googleusercontent.com/-KYuH_A0wMqY/AAAAAAAAAAI/AAAAAAAAA70/CFLH5ufF32M/s64/photo.jpg",
      "userId": "00864276345820379450"
     },
     "user_tz": -180
    },
    "id": "eG2THgYYLrH4",
    "outputId": "4bc73d8d-3edb-4f7b-a6c1-0607e9ffabe2"
   },
   "outputs": [
    {
     "data": {
      "text/plain": [
       "tensor([ 4.,  5.,  6.,  7.,  8.,  9., 10., 11., 12.])"
      ]
     },
     "execution_count": 25,
     "metadata": {},
     "output_type": "execute_result"
    }
   ],
   "source": [
    "x[x > 3]"
   ]
  },
  {
   "cell_type": "code",
   "execution_count": 26,
   "metadata": {
    "colab": {
     "base_uri": "https://localhost:8080/",
     "height": 119
    },
    "colab_type": "code",
    "execution": {
     "iopub.execute_input": "2022-01-28T20:17:07.636437Z",
     "iopub.status.busy": "2022-01-28T20:17:07.636175Z",
     "iopub.status.idle": "2022-01-28T20:17:07.642088Z",
     "shell.execute_reply": "2022-01-28T20:17:07.641429Z",
     "shell.execute_reply.started": "2022-01-28T20:17:07.636409Z"
    },
    "executionInfo": {
     "elapsed": 8095,
     "status": "ok",
     "timestamp": 1553687458901,
     "user": {
      "displayName": "Igor Slinko",
      "photoUrl": "https://lh4.googleusercontent.com/-KYuH_A0wMqY/AAAAAAAAAAI/AAAAAAAAA70/CFLH5ufF32M/s64/photo.jpg",
      "userId": "00864276345820379450"
     },
     "user_tz": -180
    },
    "id": "fdwVdDnmLzd2",
    "outputId": "513c155a-e0c8-4ac4-e906-a1f568658127"
   },
   "outputs": [
    {
     "name": "stdout",
     "output_type": "stream",
     "text": [
      "tensor([[999.,   2.,   3.,   4.],\n",
      "        [  5.,   6.,   7.,   8.],\n",
      "        [  9.,  10.,  11.,  12.]])\n",
      "tensor([[999.,   2.,   3.,   4.],\n",
      "        [  5.,   6.,   7.,   8.],\n",
      "        [  9.,  10.,  11.,  12.]])\n"
     ]
    }
   ],
   "source": [
    "y = x\n",
    "y[0, 0] = 999\n",
    "print(x)\n",
    "print(y)"
   ]
  },
  {
   "cell_type": "code",
   "execution_count": 27,
   "metadata": {
    "colab": {},
    "colab_type": "code",
    "execution": {
     "iopub.execute_input": "2022-01-28T20:17:09.016349Z",
     "iopub.status.busy": "2022-01-28T20:17:09.016060Z",
     "iopub.status.idle": "2022-01-28T20:17:09.020448Z",
     "shell.execute_reply": "2022-01-28T20:17:09.019765Z",
     "shell.execute_reply.started": "2022-01-28T20:17:09.016317Z"
    },
    "id": "KZA2-dvvMk1P"
   },
   "outputs": [],
   "source": [
    "x = torch.Tensor([[1,  2,  3,  4],\n",
    "                  [5,  6,  7,  8],\n",
    "                  [9, 10, 11, 12]])"
   ]
  },
  {
   "cell_type": "code",
   "execution_count": 28,
   "metadata": {
    "colab": {
     "base_uri": "https://localhost:8080/",
     "height": 119
    },
    "colab_type": "code",
    "execution": {
     "iopub.execute_input": "2022-01-28T20:17:09.350491Z",
     "iopub.status.busy": "2022-01-28T20:17:09.350243Z",
     "iopub.status.idle": "2022-01-28T20:17:09.355817Z",
     "shell.execute_reply": "2022-01-28T20:17:09.355156Z",
     "shell.execute_reply.started": "2022-01-28T20:17:09.350464Z"
    },
    "executionInfo": {
     "elapsed": 7222,
     "status": "ok",
     "timestamp": 1553687458906,
     "user": {
      "displayName": "Igor Slinko",
      "photoUrl": "https://lh4.googleusercontent.com/-KYuH_A0wMqY/AAAAAAAAAAI/AAAAAAAAA70/CFLH5ufF32M/s64/photo.jpg",
      "userId": "00864276345820379450"
     },
     "user_tz": -180
    },
    "id": "lgePj3UPMRUA",
    "outputId": "40f0c065-29df-4fb0-c344-3e6ceedb004d"
   },
   "outputs": [
    {
     "name": "stdout",
     "output_type": "stream",
     "text": [
      "tensor([[ 1.,  2.,  3.,  4.],\n",
      "        [ 5.,  6.,  7.,  8.],\n",
      "        [ 9., 10., 11., 12.]])\n",
      "tensor([[999.,   2.,   3.,   4.],\n",
      "        [  5.,   6.,   7.,   8.],\n",
      "        [  9.,  10.,  11.,  12.]])\n"
     ]
    }
   ],
   "source": [
    "y = x.clone()\n",
    "y[0, 0] = 999\n",
    "print(x)\n",
    "print(y)"
   ]
  },
  {
   "cell_type": "code",
   "execution_count": 29,
   "metadata": {
    "colab": {
     "base_uri": "https://localhost:8080/",
     "height": 34
    },
    "colab_type": "code",
    "execution": {
     "iopub.execute_input": "2022-01-28T20:17:13.933006Z",
     "iopub.status.busy": "2022-01-28T20:17:13.932716Z",
     "iopub.status.idle": "2022-01-28T20:17:13.937456Z",
     "shell.execute_reply": "2022-01-28T20:17:13.936902Z",
     "shell.execute_reply.started": "2022-01-28T20:17:13.932974Z"
    },
    "executionInfo": {
     "elapsed": 6941,
     "status": "ok",
     "timestamp": 1553687458908,
     "user": {
      "displayName": "Igor Slinko",
      "photoUrl": "https://lh4.googleusercontent.com/-KYuH_A0wMqY/AAAAAAAAAAI/AAAAAAAAA70/CFLH5ufF32M/s64/photo.jpg",
      "userId": "00864276345820379450"
     },
     "user_tz": -180
    },
    "id": "qvbFh7jqOLZQ",
    "outputId": "8ad47ea8-bf18-4dd6-967b-f9d351edb798"
   },
   "outputs": [
    {
     "data": {
      "text/plain": [
       "torch.float32"
      ]
     },
     "execution_count": 29,
     "metadata": {},
     "output_type": "execute_result"
    }
   ],
   "source": [
    "x.dtype"
   ]
  },
  {
   "cell_type": "code",
   "execution_count": 30,
   "metadata": {
    "colab": {
     "base_uri": "https://localhost:8080/",
     "height": 170
    },
    "colab_type": "code",
    "execution": {
     "iopub.execute_input": "2022-01-28T20:19:27.503227Z",
     "iopub.status.busy": "2022-01-28T20:19:27.503004Z",
     "iopub.status.idle": "2022-01-28T20:19:27.508200Z",
     "shell.execute_reply": "2022-01-28T20:19:27.507747Z",
     "shell.execute_reply.started": "2022-01-28T20:19:27.503204Z"
    },
    "executionInfo": {
     "elapsed": 6421,
     "status": "ok",
     "timestamp": 1553687458909,
     "user": {
      "displayName": "Igor Slinko",
      "photoUrl": "https://lh4.googleusercontent.com/-KYuH_A0wMqY/AAAAAAAAAAI/AAAAAAAAA70/CFLH5ufF32M/s64/photo.jpg",
      "userId": "00864276345820379450"
     },
     "user_tz": -180
    },
    "id": "hgbQ5DimN52l",
    "outputId": "dccd15ac-7662-4856-8925-f2bb192c4978"
   },
   "outputs": [
    {
     "name": "stdout",
     "output_type": "stream",
     "text": [
      "tensor([[ 1.,  2.,  3.,  4.],\n",
      "        [ 5.,  6.,  7.,  8.],\n",
      "        [ 9., 10., 11., 12.]], dtype=torch.float64)\n",
      "tensor([[ 1,  2,  3,  4],\n",
      "        [ 5,  6,  7,  8],\n",
      "        [ 9, 10, 11, 12]], dtype=torch.int32)\n",
      "tensor([[ 1.,  2.,  3.,  4.],\n",
      "        [ 5.,  6.,  7.,  8.],\n",
      "        [ 9., 10., 11., 12.]])\n"
     ]
    }
   ],
   "source": [
    "x = x.double()\n",
    "print(x)\n",
    "x = x.int()\n",
    "print(x)\n",
    "x = x.float()\n",
    "print(x)"
   ]
  },
  {
   "cell_type": "code",
   "execution_count": 31,
   "metadata": {
    "colab": {
     "base_uri": "https://localhost:8080/",
     "height": 51
    },
    "colab_type": "code",
    "execution": {
     "iopub.execute_input": "2022-01-28T20:21:19.251753Z",
     "iopub.status.busy": "2022-01-28T20:21:19.251493Z",
     "iopub.status.idle": "2022-01-28T20:21:19.256919Z",
     "shell.execute_reply": "2022-01-28T20:21:19.256250Z",
     "shell.execute_reply.started": "2022-01-28T20:21:19.251725Z"
    },
    "executionInfo": {
     "elapsed": 6234,
     "status": "ok",
     "timestamp": 1553687458910,
     "user": {
      "displayName": "Igor Slinko",
      "photoUrl": "https://lh4.googleusercontent.com/-KYuH_A0wMqY/AAAAAAAAAAI/AAAAAAAAA70/CFLH5ufF32M/s64/photo.jpg",
      "userId": "00864276345820379450"
     },
     "user_tz": -180
    },
    "id": "MEYxh-ZVOVZC",
    "outputId": "0d9e926e-ddcb-43aa-c467-1d5da612dbcb"
   },
   "outputs": [
    {
     "data": {
      "text/plain": [
       "array([[1, 2, 3, 4],\n",
       "       [4, 3, 2, 1]])"
      ]
     },
     "execution_count": 31,
     "metadata": {},
     "output_type": "execute_result"
    }
   ],
   "source": [
    "import numpy as np\n",
    "x = np.array([[1, 2, 3, 4],\n",
    "              [4, 3, 2, 1]])\n",
    "x"
   ]
  },
  {
   "cell_type": "code",
   "execution_count": 32,
   "metadata": {
    "colab": {
     "base_uri": "https://localhost:8080/",
     "height": 51
    },
    "colab_type": "code",
    "execution": {
     "iopub.execute_input": "2022-01-28T20:21:19.930190Z",
     "iopub.status.busy": "2022-01-28T20:21:19.929932Z",
     "iopub.status.idle": "2022-01-28T20:21:19.934966Z",
     "shell.execute_reply": "2022-01-28T20:21:19.934304Z",
     "shell.execute_reply.started": "2022-01-28T20:21:19.930161Z"
    },
    "executionInfo": {
     "elapsed": 5952,
     "status": "ok",
     "timestamp": 1553687458912,
     "user": {
      "displayName": "Igor Slinko",
      "photoUrl": "https://lh4.googleusercontent.com/-KYuH_A0wMqY/AAAAAAAAAAI/AAAAAAAAA70/CFLH5ufF32M/s64/photo.jpg",
      "userId": "00864276345820379450"
     },
     "user_tz": -180
    },
    "id": "oCwKn4RMOei2",
    "outputId": "e2e0ad7a-c68e-42a5-9d70-f1433f28fddb"
   },
   "outputs": [
    {
     "data": {
      "text/plain": [
       "tensor([[1, 2, 3, 4],\n",
       "        [4, 3, 2, 1]])"
      ]
     },
     "execution_count": 32,
     "metadata": {},
     "output_type": "execute_result"
    }
   ],
   "source": [
    "x = torch.from_numpy(x)\n",
    "x"
   ]
  },
  {
   "cell_type": "code",
   "execution_count": 33,
   "metadata": {
    "colab": {
     "base_uri": "https://localhost:8080/",
     "height": 51
    },
    "colab_type": "code",
    "execution": {
     "iopub.execute_input": "2022-01-28T20:21:36.353716Z",
     "iopub.status.busy": "2022-01-28T20:21:36.353453Z",
     "iopub.status.idle": "2022-01-28T20:21:36.358239Z",
     "shell.execute_reply": "2022-01-28T20:21:36.357605Z",
     "shell.execute_reply.started": "2022-01-28T20:21:36.353687Z"
    },
    "executionInfo": {
     "elapsed": 5766,
     "status": "ok",
     "timestamp": 1553687458914,
     "user": {
      "displayName": "Igor Slinko",
      "photoUrl": "https://lh4.googleusercontent.com/-KYuH_A0wMqY/AAAAAAAAAAI/AAAAAAAAA70/CFLH5ufF32M/s64/photo.jpg",
      "userId": "00864276345820379450"
     },
     "user_tz": -180
    },
    "id": "dGooyQjtOi9k",
    "outputId": "4f73f842-c7d8-4dfe-ccc6-d462e92d93d9"
   },
   "outputs": [
    {
     "data": {
      "text/plain": [
       "array([[1, 2, 3, 4],\n",
       "       [4, 3, 2, 1]])"
      ]
     },
     "execution_count": 33,
     "metadata": {},
     "output_type": "execute_result"
    }
   ],
   "source": [
    "x = x.numpy()\n",
    "x"
   ]
  },
  {
   "cell_type": "code",
   "execution_count": 34,
   "metadata": {
    "colab": {},
    "colab_type": "code",
    "execution": {
     "iopub.execute_input": "2022-01-28T20:21:59.734078Z",
     "iopub.status.busy": "2022-01-28T20:21:59.733819Z",
     "iopub.status.idle": "2022-01-28T20:21:59.776224Z",
     "shell.execute_reply": "2022-01-28T20:21:59.775687Z",
     "shell.execute_reply.started": "2022-01-28T20:21:59.734051Z"
    },
    "id": "tFDksYpTPSJb"
   },
   "outputs": [],
   "source": [
    "x = torch.rand([2000,3000])\n",
    "# x"
   ]
  },
  {
   "cell_type": "code",
   "execution_count": 35,
   "metadata": {
    "execution": {
     "iopub.execute_input": "2022-01-28T20:22:00.527412Z",
     "iopub.status.busy": "2022-01-28T20:22:00.527158Z",
     "iopub.status.idle": "2022-01-28T20:22:00.531905Z",
     "shell.execute_reply": "2022-01-28T20:22:00.531195Z",
     "shell.execute_reply.started": "2022-01-28T20:22:00.527385Z"
    }
   },
   "outputs": [
    {
     "data": {
      "text/plain": [
       "False"
      ]
     },
     "execution_count": 35,
     "metadata": {},
     "output_type": "execute_result"
    }
   ],
   "source": [
    "torch.cuda.is_available()"
   ]
  },
  {
   "cell_type": "code",
   "execution_count": null,
   "metadata": {
    "colab": {
     "base_uri": "https://localhost:8080/",
     "height": 34
    },
    "colab_type": "code",
    "executionInfo": {
     "elapsed": 5053,
     "status": "ok",
     "timestamp": 1553687458919,
     "user": {
      "displayName": "Igor Slinko",
      "photoUrl": "https://lh4.googleusercontent.com/-KYuH_A0wMqY/AAAAAAAAAAI/AAAAAAAAA70/CFLH5ufF32M/s64/photo.jpg",
      "userId": "00864276345820379450"
     },
     "user_tz": -180
    },
    "id": "z1JH-OzURJgm",
    "outputId": "dc9ca01d-9508-404e-d0fc-cb91882531ee"
   },
   "outputs": [
    {
     "data": {
      "text/plain": [
       "device(type='cuda', index=0)"
      ]
     },
     "execution_count": 37,
     "metadata": {
      "tags": []
     },
     "output_type": "execute_result"
    }
   ],
   "source": [
    "torch.device('cuda:0')"
   ]
  },
  {
   "cell_type": "code",
   "execution_count": 36,
   "metadata": {
    "colab": {
     "base_uri": "https://localhost:8080/",
     "height": 34
    },
    "colab_type": "code",
    "execution": {
     "iopub.execute_input": "2022-01-28T20:22:14.912670Z",
     "iopub.status.busy": "2022-01-28T20:22:14.912375Z",
     "iopub.status.idle": "2022-01-28T20:22:14.917286Z",
     "shell.execute_reply": "2022-01-28T20:22:14.916597Z",
     "shell.execute_reply.started": "2022-01-28T20:22:14.912637Z"
    },
    "executionInfo": {
     "elapsed": 4909,
     "status": "ok",
     "timestamp": 1553687458920,
     "user": {
      "displayName": "Igor Slinko",
      "photoUrl": "https://lh4.googleusercontent.com/-KYuH_A0wMqY/AAAAAAAAAAI/AAAAAAAAA70/CFLH5ufF32M/s64/photo.jpg",
      "userId": "00864276345820379450"
     },
     "user_tz": -180
    },
    "id": "KopsvEhWRVCG",
    "outputId": "6bc2305f-bc76-49ec-8154-0808fc492ff5"
   },
   "outputs": [
    {
     "data": {
      "text/plain": [
       "device(type='cpu')"
      ]
     },
     "execution_count": 36,
     "metadata": {},
     "output_type": "execute_result"
    }
   ],
   "source": [
    "torch.device('cpu')"
   ]
  },
  {
   "cell_type": "code",
   "execution_count": 37,
   "metadata": {
    "colab": {
     "base_uri": "https://localhost:8080/",
     "height": 34
    },
    "colab_type": "code",
    "execution": {
     "iopub.execute_input": "2022-01-28T20:22:21.029416Z",
     "iopub.status.busy": "2022-01-28T20:22:21.029126Z",
     "iopub.status.idle": "2022-01-28T20:22:21.033940Z",
     "shell.execute_reply": "2022-01-28T20:22:21.033375Z",
     "shell.execute_reply.started": "2022-01-28T20:22:21.029384Z"
    },
    "executionInfo": {
     "elapsed": 4760,
     "status": "ok",
     "timestamp": 1553687458921,
     "user": {
      "displayName": "Igor Slinko",
      "photoUrl": "https://lh4.googleusercontent.com/-KYuH_A0wMqY/AAAAAAAAAAI/AAAAAAAAA70/CFLH5ufF32M/s64/photo.jpg",
      "userId": "00864276345820379450"
     },
     "user_tz": -180
    },
    "id": "brlr6kp-Owrp",
    "outputId": "80c44c6e-aab2-4719-9c33-183c85c00db0"
   },
   "outputs": [
    {
     "data": {
      "text/plain": [
       "device(type='cpu')"
      ]
     },
     "execution_count": 37,
     "metadata": {},
     "output_type": "execute_result"
    }
   ],
   "source": [
    "device = torch.device('cuda:0' if torch.cuda.is_available() else 'cpu')\n",
    "device"
   ]
  },
  {
   "cell_type": "code",
   "execution_count": 38,
   "metadata": {
    "colab": {},
    "colab_type": "code",
    "execution": {
     "iopub.execute_input": "2022-01-28T20:22:27.445199Z",
     "iopub.status.busy": "2022-01-28T20:22:27.444901Z",
     "iopub.status.idle": "2022-01-28T20:22:27.448895Z",
     "shell.execute_reply": "2022-01-28T20:22:27.448059Z",
     "shell.execute_reply.started": "2022-01-28T20:22:27.445167Z"
    },
    "id": "No2Aa20APGi7"
   },
   "outputs": [],
   "source": [
    "x_cuda = x.to(device)\n",
    "# x_cuda"
   ]
  },
  {
   "cell_type": "code",
   "execution_count": null,
   "metadata": {
    "colab": {
     "base_uri": "https://localhost:8080/",
     "height": 51
    },
    "colab_type": "code",
    "executionInfo": {
     "elapsed": 13603,
     "status": "ok",
     "timestamp": 1553687468407,
     "user": {
      "displayName": "Igor Slinko",
      "photoUrl": "https://lh4.googleusercontent.com/-KYuH_A0wMqY/AAAAAAAAAAI/AAAAAAAAA70/CFLH5ufF32M/s64/photo.jpg",
      "userId": "00864276345820379450"
     },
     "user_tz": -180
    },
    "id": "b8jHgcD6Puhl",
    "outputId": "bd6ef6ee-f442-4747-c486-535aba1e010e"
   },
   "outputs": [
    {
     "name": "stdout",
     "output_type": "stream",
     "text": [
      "CPU times: user 24.6 ms, sys: 33.9 ms, total: 58.5 ms\n",
      "Wall time: 61.7 ms\n"
     ]
    }
   ],
   "source": [
    "%time y = (x - x + x * 10.0) ** 2"
   ]
  },
  {
   "cell_type": "code",
   "execution_count": null,
   "metadata": {
    "colab": {
     "base_uri": "https://localhost:8080/",
     "height": 51
    },
    "colab_type": "code",
    "executionInfo": {
     "elapsed": 13370,
     "status": "ok",
     "timestamp": 1553687468409,
     "user": {
      "displayName": "Igor Slinko",
      "photoUrl": "https://lh4.googleusercontent.com/-KYuH_A0wMqY/AAAAAAAAAAI/AAAAAAAAA70/CFLH5ufF32M/s64/photo.jpg",
      "userId": "00864276345820379450"
     },
     "user_tz": -180
    },
    "id": "TxydcYheP3tQ",
    "outputId": "0b5f5d57-d689-46c5-e470-3e4b57bd64b0"
   },
   "outputs": [
    {
     "name": "stdout",
     "output_type": "stream",
     "text": [
      "CPU times: user 1.55 ms, sys: 1.86 ms, total: 3.41 ms\n",
      "Wall time: 24.9 ms\n"
     ]
    }
   ],
   "source": [
    "%time y_cuda = (x_cuda - x_cuda + x_cuda * 10.0) ** 2"
   ]
  },
  {
   "cell_type": "code",
   "execution_count": null,
   "metadata": {
    "colab": {},
    "colab_type": "code",
    "id": "Lbl4j-4fQGNi"
   },
   "outputs": [],
   "source": []
  },
  {
   "cell_type": "code",
   "execution_count": null,
   "metadata": {},
   "outputs": [],
   "source": []
  }
 ],
 "metadata": {
  "accelerator": "GPU",
  "colab": {
   "collapsed_sections": [],
   "name": "Seminar1.ipynb",
   "provenance": [],
   "version": "0.3.2"
  },
  "kernelspec": {
   "display_name": "rl_learn_v2",
   "language": "python",
   "name": "rl_learn_v2"
  },
  "language_info": {
   "codemirror_mode": {
    "name": "ipython",
    "version": 3
   },
   "file_extension": ".py",
   "mimetype": "text/x-python",
   "name": "python",
   "nbconvert_exporter": "python",
   "pygments_lexer": "ipython3",
   "version": "3.9.7"
  }
 },
 "nbformat": 4,
 "nbformat_minor": 4
}

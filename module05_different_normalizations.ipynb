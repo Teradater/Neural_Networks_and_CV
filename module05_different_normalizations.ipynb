{
 "cells": [
  {
   "cell_type": "markdown",
   "id": "95274846-fed6-4569-915a-bc60e138e0de",
   "metadata": {},
   "source": [
    "# Простой проход батчнорма без двух обучаемых параметров"
   ]
  },
  {
   "cell_type": "code",
   "execution_count": 109,
   "id": "b4ad2ca8-8e38-41b3-8aa7-6d38f17a63e3",
   "metadata": {
    "execution": {
     "iopub.execute_input": "2022-02-02T17:55:14.324778Z",
     "iopub.status.busy": "2022-02-02T17:55:14.324521Z",
     "iopub.status.idle": "2022-02-02T17:55:14.335858Z",
     "shell.execute_reply": "2022-02-02T17:55:14.335300Z",
     "shell.execute_reply.started": "2022-02-02T17:55:14.324751Z"
    },
    "tags": []
   },
   "outputs": [
    {
     "name": "stdout",
     "output_type": "stream",
     "text": [
      "True\n"
     ]
    }
   ],
   "source": [
    "import numpy as np\n",
    "import torch\n",
    "import torch.nn as nn\n",
    "\n",
    "def custom_batch_norm1d(input_tensor, eps):\n",
    "    normed_tensor = (\n",
    "        (input_tensor - input_tensor.mean(dim=0)) / \n",
    "        (input_tensor.var(dim=0, unbiased=False) + eps).sqrt()\n",
    "    )\n",
    "    return normed_tensor\n",
    "\n",
    "\n",
    "input_tensor = torch.Tensor([[0.0, 0, 1, 0, 2], [0, 1, 1, 0, 10]])\n",
    "batch_norm = nn.BatchNorm1d(input_tensor.shape[1], affine=False)\n",
    "\n",
    "# Проверка происходит автоматически вызовом следующего кода\n",
    "# (раскомментируйте для самостоятельной проверки,\n",
    "#  в коде для сдачи задания должно быть закомментировано):\n",
    "import numpy as np\n",
    "all_correct = True\n",
    "for eps_power in range(10):\n",
    "    eps = np.power(10., -eps_power)\n",
    "    batch_norm.eps = eps\n",
    "    batch_norm_out = batch_norm(input_tensor)\n",
    "    custom_batch_norm_out = custom_batch_norm1d(input_tensor, eps)\n",
    "\n",
    "    all_correct &= torch.allclose(batch_norm_out, custom_batch_norm_out)\n",
    "    all_correct &= batch_norm_out.shape == custom_batch_norm_out.shape\n",
    "print(all_correct)"
   ]
  },
  {
   "cell_type": "markdown",
   "id": "b7a7772c-091d-441a-9c0c-7b595429dc6a",
   "metadata": {},
   "source": [
    "# Докидываем пару параметров"
   ]
  },
  {
   "cell_type": "code",
   "execution_count": 110,
   "id": "bda80cef-e969-49f1-82e3-702e1579ec9d",
   "metadata": {
    "execution": {
     "iopub.execute_input": "2022-02-02T17:56:15.747129Z",
     "iopub.status.busy": "2022-02-02T17:56:15.746874Z",
     "iopub.status.idle": "2022-02-02T17:56:15.755292Z",
     "shell.execute_reply": "2022-02-02T17:56:15.754697Z",
     "shell.execute_reply.started": "2022-02-02T17:56:15.747102Z"
    }
   },
   "outputs": [
    {
     "name": "stdout",
     "output_type": "stream",
     "text": [
      "True\n"
     ]
    }
   ],
   "source": [
    "import torch\n",
    "import torch.nn as nn\n",
    "\n",
    "input_size = 7\n",
    "batch_size = 5\n",
    "input_tensor = torch.randn(batch_size, input_size, dtype=torch.float)\n",
    "\n",
    "eps = 1e-3\n",
    "\n",
    "def custom_batch_norm1d(input_tensor, weight, bias, eps):\n",
    "    normed_tensor = (\n",
    "        (input_tensor - input_tensor.mean(dim=0)) / \n",
    "        (input_tensor.var(dim=0, unbiased=False) + eps).sqrt()\n",
    "    ) * weight + bias\n",
    "    return normed_tensor\n",
    "\n",
    "# Проверка происходит автоматически вызовом следующего кода\n",
    "# (раскомментируйте для самостоятельной проверки,\n",
    "#  в коде для сдачи задания должно быть закомментировано):\n",
    "# batch_norm = nn.BatchNorm1d(input_size, eps=eps)\n",
    "# batch_norm.bias.data = torch.randn(input_size, dtype=torch.float)\n",
    "# batch_norm.weight.data = torch.randn(input_size, dtype=torch.float)\n",
    "# batch_norm_out = batch_norm(input_tensor)\n",
    "# custom_batch_norm_out = custom_batch_norm1d(input_tensor, batch_norm.weight.data, batch_norm.bias.data, eps)\n",
    "# print(torch.allclose(batch_norm_out, custom_batch_norm_out) \\\n",
    "#       and batch_norm_out.shape == custom_batch_norm_out.shape)"
   ]
  },
  {
   "cell_type": "code",
   "execution_count": 277,
   "id": "2ef021fd-da95-4c02-8a1b-d66f2eba2b44",
   "metadata": {
    "execution": {
     "iopub.execute_input": "2022-02-02T18:58:42.568540Z",
     "iopub.status.busy": "2022-02-02T18:58:42.568264Z",
     "iopub.status.idle": "2022-02-02T18:58:42.574453Z",
     "shell.execute_reply": "2022-02-02T18:58:42.573830Z",
     "shell.execute_reply.started": "2022-02-02T18:58:42.568513Z"
    }
   },
   "outputs": [],
   "source": [
    "import torch\n",
    "import random\n",
    "import numpy as np\n",
    "\n",
    "random.seed(0)\n",
    "np.random.seed(0)\n",
    "torch.manual_seed(0)\n",
    "torch.cuda.manual_seed(0)\n",
    "torch.backends.cudnn.deterministic = True"
   ]
  },
  {
   "cell_type": "markdown",
   "id": "334d4160-e827-4f00-a562-0c5a39554775",
   "metadata": {},
   "source": [
    "# Докидываем возможность инференса"
   ]
  },
  {
   "cell_type": "code",
   "execution_count": 300,
   "id": "88c37ae9-aaae-4ad1-825a-29bb4c049d03",
   "metadata": {
    "execution": {
     "iopub.execute_input": "2022-02-02T19:10:54.155387Z",
     "iopub.status.busy": "2022-02-02T19:10:54.155153Z",
     "iopub.status.idle": "2022-02-02T19:10:54.170352Z",
     "shell.execute_reply": "2022-02-02T19:10:54.169910Z",
     "shell.execute_reply.started": "2022-02-02T19:10:54.155363Z"
    },
    "tags": []
   },
   "outputs": [
    {
     "name": "stdout",
     "output_type": "stream",
     "text": [
      "True\n"
     ]
    }
   ],
   "source": [
    "import torch\n",
    "import torch.nn as nn\n",
    "\n",
    "\n",
    "input_size = 3\n",
    "batch_size = 5\n",
    "eps = 1e-1\n",
    "\n",
    "\n",
    "class CustomBatchNorm1d:\n",
    "    def __init__(self, weight, bias, eps, momentum):\n",
    "        self.weight = weight\n",
    "        self.bias = bias\n",
    "        self.eps = eps\n",
    "        self.momentum = momentum\n",
    "        \n",
    "        self.running_mean = torch.zeros_like(weight)\n",
    "        self.running_var = torch.ones_like(weight)\n",
    "        \n",
    "        self.is_eval = False\n",
    "\n",
    "    def __call__(self, input_tensor):\n",
    "        if self.is_eval:\n",
    "            mu = self.running_mean\n",
    "            var = self.running_var\n",
    "        else:\n",
    "            mu = input_tensor.mean(dim=0)\n",
    "            var = input_tensor.var(dim=0, unbiased=False)\n",
    "            var_unb = input_tensor.var(dim=0, unbiased=True)\n",
    "            batch_size = input_tensor.shape[0]\n",
    "        \n",
    "        normed_tensor = ((input_tensor - mu) / (var + self.eps).sqrt()) * self.weight + self.bias\n",
    "        \n",
    "        if not self.is_eval:            \n",
    "            self.running_mean = (1 - self.momentum) * mu + self.momentum * self.running_mean\n",
    "            self.running_var = (1 - self.momentum) * var_unb + self.momentum * self.running_var\n",
    "            \n",
    "        \n",
    "        return normed_tensor\n",
    "\n",
    "    def eval(self):\n",
    "        self.is_eval = True\n",
    "        \n",
    "\n",
    "batch_norm = nn.BatchNorm1d(input_size, eps=eps)\n",
    "batch_norm.bias.data = torch.randn(input_size, dtype=torch.float)\n",
    "batch_norm.weight.data = torch.randn(input_size, dtype=torch.float)\n",
    "batch_norm.momentum = 0.5\n",
    "\n",
    "custom_batch_norm1d = CustomBatchNorm1d(batch_norm.weight.data,\n",
    "                                        batch_norm.bias.data, eps, batch_norm.momentum)\n",
    "\n",
    "# Проверка происходит автоматически вызовом следующего кода\n",
    "# (раскомментируйте для самостоятельной проверки,\n",
    "#  в коде для сдачи задания должно быть закомментировано):\n",
    "all_correct = True\n",
    "\n",
    "for i in range(8):\n",
    "    torch_input = torch.randn(batch_size, input_size, dtype=torch.float)\n",
    "    norm_output = batch_norm(torch_input)\n",
    "    custom_output = custom_batch_norm1d(torch_input)\n",
    "    all_correct &= torch.allclose(norm_output, custom_output, atol=1e-06) \\\n",
    "        and norm_output.shape == custom_output.shape\n",
    "\n",
    "batch_norm.eval()\n",
    "custom_batch_norm1d.eval()\n",
    "\n",
    "for i in range(8):\n",
    "    torch_input = torch.randn(batch_size, input_size, dtype=torch.float)\n",
    "    norm_output = batch_norm(torch_input)\n",
    "    custom_output = custom_batch_norm1d(torch_input)\n",
    "    all_correct &= torch.allclose(norm_output, custom_output, atol=1e-06) \\\n",
    "        and norm_output.shape == custom_output.shape\n",
    "\n",
    "print(all_correct)"
   ]
  },
  {
   "cell_type": "markdown",
   "id": "e45656fc-9559-4444-8a68-50d3448b4015",
   "metadata": {
    "execution": {
     "iopub.execute_input": "2022-02-02T19:14:43.607022Z",
     "iopub.status.busy": "2022-02-02T19:14:43.606801Z",
     "iopub.status.idle": "2022-02-02T19:14:43.609624Z",
     "shell.execute_reply": "2022-02-02T19:14:43.609021Z",
     "shell.execute_reply.started": "2022-02-02T19:14:43.607000Z"
    }
   },
   "source": [
    "# Докидываем возможность нескольких слоев\n",
    "## В этот раз снова выкидываем гамму и бету"
   ]
  },
  {
   "cell_type": "code",
   "execution_count": 362,
   "id": "1733465d-0297-4b3e-b83d-d41e27163eb5",
   "metadata": {
    "execution": {
     "iopub.execute_input": "2022-02-02T19:40:16.864760Z",
     "iopub.status.busy": "2022-02-02T19:40:16.864494Z",
     "iopub.status.idle": "2022-02-02T19:40:16.872771Z",
     "shell.execute_reply": "2022-02-02T19:40:16.872100Z",
     "shell.execute_reply.started": "2022-02-02T19:40:16.864736Z"
    },
    "tags": []
   },
   "outputs": [
    {
     "name": "stdout",
     "output_type": "stream",
     "text": [
      "True\n"
     ]
    }
   ],
   "source": [
    "import torch\n",
    "import torch.nn as nn\n",
    "\n",
    "eps = 1e-3\n",
    "\n",
    "input_channels = 3\n",
    "batch_size = 3\n",
    "height = 10\n",
    "width = 10\n",
    "# batch_size = 2\n",
    "# height = 3\n",
    "# width = 4\n",
    "\n",
    "batch_norm_2d = nn.BatchNorm2d(input_channels, affine=False, eps=eps)\n",
    "\n",
    "input_tensor = torch.randn(batch_size, input_channels, height, width, dtype=torch.float)\n",
    "\n",
    "\n",
    "def custom_batch_norm2d(input_tensor, eps):\n",
    "#     normed_tensor = torch.zeros_like(input_tensor)\n",
    "#     for channel_idx in range(input_tensor.shape[1]):\n",
    "#         normed_tensor[:,channel_idx,:,:] = (\n",
    "#             (input_tensor[:,channel_idx,:,:] - input_tensor[:,channel_idx,:,:].mean()) / \n",
    "#             (input_tensor[:,channel_idx,:,:].var(unbiased=False) + eps).sqrt()\n",
    "#             # (input_tensor[:,channel_idx,:,:] - input_tensor[:,channel_idx,:,:].mean(dim=0)) / \n",
    "#             # (input_tensor[:,channel_idx,:,:].var(dim=0, unbiased=False) + eps).sqrt()\n",
    "#         )\n",
    "        \n",
    "    mean = input_tensor.mean(dim=(0,2,3), keepdim=True)\n",
    "    var = input_tensor.var(dim=(0,2,3), unbiased=False, keepdim=True)\n",
    "    # var = (input_tensor-mean).pow(2).mean(dim=(0,2,3), keepdim=True)\n",
    "    normed_tensor = (input_tensor-mean)/torch.sqrt(var+eps)\n",
    "    return normed_tensor\n",
    "\n",
    "\n",
    "# Проверка происходит автоматически вызовом следующего кода\n",
    "# (раскомментируйте для самостоятельной проверки,\n",
    "#  в коде для сдачи задания должно быть закомментировано):\n",
    "norm_output = batch_norm_2d(input_tensor)\n",
    "custom_output = custom_batch_norm2d(input_tensor, eps)\n",
    "print(torch.allclose(norm_output, custom_output) and norm_output.shape == custom_output.shape)"
   ]
  },
  {
   "cell_type": "markdown",
   "id": "25a63a13-0493-459e-95ee-529fd1d975ea",
   "metadata": {},
   "source": [
    "# Нормализация по каналу - внутри картинки исправляем контрастность!\n",
    "## В этот раз снова выкидываем гамму и бету"
   ]
  },
  {
   "cell_type": "code",
   "execution_count": 393,
   "id": "ba66c532-3749-43b1-bd00-07638dcfb4c3",
   "metadata": {
    "execution": {
     "iopub.execute_input": "2022-02-02T19:53:34.650644Z",
     "iopub.status.busy": "2022-02-02T19:53:34.650380Z",
     "iopub.status.idle": "2022-02-02T19:53:34.664042Z",
     "shell.execute_reply": "2022-02-02T19:53:34.663476Z",
     "shell.execute_reply.started": "2022-02-02T19:53:34.650617Z"
    },
    "tags": []
   },
   "outputs": [
    {
     "name": "stdout",
     "output_type": "stream",
     "text": [
      "True\n"
     ]
    }
   ],
   "source": [
    "import torch\n",
    "import torch.nn as nn\n",
    "\n",
    "eps = 1e-10\n",
    "\n",
    "def custom_layer_norm(input_tensor, eps):\n",
    "    dims = list(range(len(input_tensor.shape)))[1:]\n",
    "    mean = input_tensor.mean(dim=dims, keepdim=True)\n",
    "    var = input_tensor.var(dim=dims, unbiased=False, keepdim=True)\n",
    "    # var = (input_tensor-mean).pow(2).mean(dim=dims, keepdim=True)\n",
    "    normed_tensor = (input_tensor-mean)/torch.sqrt(var+eps)\n",
    "    return normed_tensor\n",
    "\n",
    "\n",
    "# Проверка происходит автоматически вызовом следующего кода\n",
    "# (раскомментируйте для самостоятельной проверки,\n",
    "#  в коде для сдачи задания должно быть закомментировано):\n",
    "all_correct = True\n",
    "for dim_count in range(3, 9):\n",
    "    input_tensor = torch.randn(*list(range(3, dim_count + 2)), dtype=torch.float)\n",
    "    layer_norm = nn.LayerNorm(input_tensor.size()[1:], elementwise_affine=False, eps=eps)\n",
    "\n",
    "    norm_output = layer_norm(input_tensor)\n",
    "    custom_output = custom_layer_norm(input_tensor, eps)\n",
    "\n",
    "    all_correct &= torch.allclose(norm_output, custom_output, 1e-2)\n",
    "    all_correct &= norm_output.shape == custom_output.shape\n",
    "print(all_correct)"
   ]
  },
  {
   "cell_type": "markdown",
   "id": "bb3aad37-1b79-4cc9-9b2a-6f59111ba74d",
   "metadata": {},
   "source": [
    "# Нормализация по инстансу\n",
    "## В этот раз снова выкидываем гамму и бету"
   ]
  },
  {
   "cell_type": "code",
   "execution_count": 527,
   "id": "337c9df7-12ad-43ce-abe1-6d6ef0818e39",
   "metadata": {
    "execution": {
     "iopub.execute_input": "2022-02-02T20:16:43.976342Z",
     "iopub.status.busy": "2022-02-02T20:16:43.976095Z",
     "iopub.status.idle": "2022-02-02T20:16:43.983387Z",
     "shell.execute_reply": "2022-02-02T20:16:43.982777Z",
     "shell.execute_reply.started": "2022-02-02T20:16:43.976316Z"
    },
    "tags": []
   },
   "outputs": [
    {
     "name": "stdout",
     "output_type": "stream",
     "text": [
      "True\n"
     ]
    }
   ],
   "source": [
    "import torch\n",
    "import torch.nn as nn\n",
    "\n",
    "eps = 1e-3\n",
    "\n",
    "batch_size = 5\n",
    "input_channels = 2\n",
    "input_length = 4\n",
    "\n",
    "instance_norm = nn.InstanceNorm1d(input_channels, affine=False, eps=eps)\n",
    "\n",
    "input_tensor = torch.randn(batch_size, input_channels, input_length, dtype=torch.float)\n",
    "\n",
    "\n",
    "def custom_instance_norm1d(input_tensor, eps):\n",
    "    mean = input_tensor.mean(dim=2, keepdim=True)\n",
    "    var = input_tensor.var(dim=2, unbiased=False, keepdim=True)\n",
    "    # var = (input_tensor-mean).pow(2).mean(dim=2, keepdim=True)\n",
    "    normed_tensor = (input_tensor-mean)/torch.sqrt(var+eps)\n",
    "    return normed_tensor\n",
    "\n",
    "\n",
    "# Проверка происходит автоматически вызовом следующего кода\n",
    "# (раскомментируйте для самостоятельной проверки,\n",
    "#  в коде для сдачи задания должно быть закомментировано):\n",
    "norm_output = instance_norm(input_tensor)\n",
    "custom_output = custom_instance_norm1d(input_tensor, eps)\n",
    "print(torch.allclose(norm_output, custom_output, atol=1e-06) and norm_output.shape == custom_output.shape)"
   ]
  },
  {
   "cell_type": "code",
   "execution_count": 530,
   "id": "93dcfc41-12b4-40a2-89dd-5d8070bae5dd",
   "metadata": {
    "execution": {
     "iopub.execute_input": "2022-02-02T20:17:09.371255Z",
     "iopub.status.busy": "2022-02-02T20:17:09.370882Z",
     "iopub.status.idle": "2022-02-02T20:17:09.376207Z",
     "shell.execute_reply": "2022-02-02T20:17:09.375607Z",
     "shell.execute_reply.started": "2022-02-02T20:17:09.371229Z"
    },
    "tags": []
   },
   "outputs": [
    {
     "data": {
      "text/plain": [
       "tensor([[[-6.0567e-01,  4.9202e-01, -7.3778e-01,  1.1460e+00],\n",
       "         [-9.2655e-01,  1.3959e+00, -9.2169e-01, -1.1080e-01]],\n",
       "\n",
       "        [[ 1.9162e-01, -2.5859e-01, -4.8185e-01, -1.6269e-01],\n",
       "         [-5.8354e-01,  1.9507e-01,  2.3379e+00, -2.6748e-01]],\n",
       "\n",
       "        [[-6.6755e-01,  8.7841e-01, -1.2619e+00, -4.1741e-04],\n",
       "         [-2.2297e-01,  2.4580e-01,  5.4644e-01,  5.2114e-01]],\n",
       "\n",
       "        [[ 3.0778e-01, -3.9558e-01,  5.3197e-01,  1.4432e-01],\n",
       "         [-1.2614e+00, -4.4672e-01, -1.7875e-01, -4.7632e-01]],\n",
       "\n",
       "        [[ 1.5018e-01, -1.3405e+00,  9.8265e-03,  3.0408e-01],\n",
       "         [ 8.1366e-01, -1.7668e+00,  7.8070e-01, -1.6876e+00]]])"
      ]
     },
     "execution_count": 530,
     "metadata": {},
     "output_type": "execute_result"
    }
   ],
   "source": [
    "input_tensor"
   ]
  },
  {
   "cell_type": "code",
   "execution_count": 529,
   "id": "487a11dc-bbab-4d89-9324-05b35c091e1f",
   "metadata": {
    "execution": {
     "iopub.execute_input": "2022-02-02T20:17:03.635541Z",
     "iopub.status.busy": "2022-02-02T20:17:03.635298Z",
     "iopub.status.idle": "2022-02-02T20:17:03.640612Z",
     "shell.execute_reply": "2022-02-02T20:17:03.640009Z",
     "shell.execute_reply.started": "2022-02-02T20:17:03.635516Z"
    }
   },
   "outputs": [
    {
     "data": {
      "text/plain": [
       "tensor([[[ 0.0736],\n",
       "         [-0.1408]],\n",
       "\n",
       "        [[-0.1779],\n",
       "         [ 0.4205]],\n",
       "\n",
       "        [[-0.2629],\n",
       "         [ 0.2726]],\n",
       "\n",
       "        [[ 0.1471],\n",
       "         [-0.5908]],\n",
       "\n",
       "        [[-0.2191],\n",
       "         [-0.4650]]])"
      ]
     },
     "execution_count": 529,
     "metadata": {},
     "output_type": "execute_result"
    }
   ],
   "source": [
    "input_tensor.mean(dim=2, keepdim=True)"
   ]
  },
  {
   "cell_type": "markdown",
   "id": "c3fe8049-815f-458e-8595-1f946101014e",
   "metadata": {},
   "source": [
    "# Нормализация по группе\n",
    "## В этот раз снова выкидываем гамму и бету"
   ]
  },
  {
   "cell_type": "code",
   "execution_count": 534,
   "id": "b368b377-8240-4578-91a4-da7461170927",
   "metadata": {
    "execution": {
     "iopub.execute_input": "2022-02-02T20:21:52.426266Z",
     "iopub.status.busy": "2022-02-02T20:21:52.426003Z",
     "iopub.status.idle": "2022-02-02T20:21:52.437082Z",
     "shell.execute_reply": "2022-02-02T20:21:52.436514Z",
     "shell.execute_reply.started": "2022-02-02T20:21:52.426239Z"
    },
    "tags": []
   },
   "outputs": [
    {
     "name": "stdout",
     "output_type": "stream",
     "text": [
      "True\n"
     ]
    }
   ],
   "source": [
    "import torch\n",
    "import torch.nn as nn\n",
    "\n",
    "eps = 1e-3\n",
    "batch_size = 20\n",
    "channel_count = 6\n",
    "input_size = 2\n",
    "\n",
    "input_tensor = torch.randn(batch_size, channel_count, input_size)\n",
    "\n",
    "\n",
    "def custom_group_norm(input_tensor, groups, eps):\n",
    "    channel_cnt = input_tensor.shape[1]\n",
    "    grp_size = channel_cnt // groups\n",
    "    \n",
    "    normed_tensor = torch.zeros(\n",
    "        input_tensor.shape[0], \n",
    "        input_tensor.shape[1], \n",
    "        input_tensor.shape[2], \n",
    "    )\n",
    "    \n",
    "    for grp_idx in range(groups):\n",
    "        mean = input_tensor[:, grp_idx*grp_size:grp_idx*grp_size+grp_size, :].mean(dim=(1,2), keepdim=True)\n",
    "        var = input_tensor[:, grp_idx*grp_size:grp_idx*grp_size+grp_size, :].var(dim=(1,2), unbiased=False, keepdim=True)\n",
    "        # var = (input_tensor[:, grp_idx*grp_size:grp_idx*grp_size+grp_size, :]-mean).pow(2).mean(dim=(1,2), keepdim=True)\n",
    "        normed_tensor[:, grp_idx*grp_size:grp_idx*grp_size+grp_size, :] = (input_tensor[:, grp_idx*grp_size:grp_idx*grp_size+grp_size, :]-mean)/torch.sqrt(var+eps)\n",
    "    return normed_tensor\n",
    "\n",
    "\n",
    "# Проверка происходит автоматически вызовом следующего кода\n",
    "# (раскомментируйте для самостоятельной проверки,\n",
    "#  в коде для сдачи задания должно быть закомментировано):\n",
    "all_correct = True\n",
    "for groups in [1, 2, 3, 6]:\n",
    "    group_norm = nn.GroupNorm(groups, channel_count, eps=eps, affine=False)\n",
    "    norm_output = group_norm(input_tensor)\n",
    "    custom_output = custom_group_norm(input_tensor, groups, eps)\n",
    "    all_correct &= torch.allclose(norm_output, custom_output, 1e-3)\n",
    "    all_correct &= norm_output.shape == custom_output.shape\n",
    "print(all_correct)"
   ]
  },
  {
   "cell_type": "code",
   "execution_count": null,
   "id": "2292d955-5ec1-4cce-a48d-28d4b50d53e6",
   "metadata": {},
   "outputs": [],
   "source": []
  },
  {
   "cell_type": "code",
   "execution_count": null,
   "id": "9173fa9e-ce4d-406a-bae3-67c1c84e638f",
   "metadata": {},
   "outputs": [],
   "source": []
  },
  {
   "cell_type": "code",
   "execution_count": null,
   "id": "eadf9eed-4230-4ab5-990c-b5c77129c2f0",
   "metadata": {},
   "outputs": [],
   "source": []
  }
 ],
 "metadata": {
  "kernelspec": {
   "display_name": "rl_learn_v2",
   "language": "python",
   "name": "rl_learn_v2"
  },
  "language_info": {
   "codemirror_mode": {
    "name": "ipython",
    "version": 3
   },
   "file_extension": ".py",
   "mimetype": "text/x-python",
   "name": "python",
   "nbconvert_exporter": "python",
   "pygments_lexer": "ipython3",
   "version": "3.9.7"
  }
 },
 "nbformat": 4,
 "nbformat_minor": 5
}
